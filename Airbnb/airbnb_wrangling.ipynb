{
 "cells": [
  {
   "cell_type": "code",
   "execution_count": 391,
   "metadata": {},
   "outputs": [],
   "source": [
    "import pandas as pd\n",
    "import numpy as np\n",
    "import matplotlib.pyplot as plt\n",
    "import seaborn as sns\n",
    "from scipy.stats import pearsonr\n",
    "from geopy.distance import vincenty\n",
    "\n",
    "pd.set_option('display.max_columns', None)"
   ]
  },
  {
   "cell_type": "code",
   "execution_count": 99,
   "metadata": {},
   "outputs": [
    {
     "name": "stderr",
     "output_type": "stream",
     "text": [
      "/Users/brysonsicotte/anaconda3/lib/python3.7/site-packages/IPython/core/interactiveshell.py:3020: DtypeWarning: Columns (94) have mixed types. Specify dtype option on import or set low_memory=False.\n",
      "  interactivity=interactivity, compiler=compiler, result=result)\n"
     ]
    }
   ],
   "source": [
    "air_raw = pd.read_csv('listings.csv.gz')"
   ]
  },
  {
   "cell_type": "code",
   "execution_count": 105,
   "metadata": {},
   "outputs": [],
   "source": [
    "# -----air_raw initial cleaning-----"
   ]
  },
  {
   "cell_type": "code",
   "execution_count": 106,
   "metadata": {},
   "outputs": [],
   "source": [
    "# Convert air_raw['price'] from a string to float\n",
    "\n",
    "price_list = []\n",
    "\n",
    "air_raw['price'] = air_raw['price'].str.replace(',','')\n",
    "\n",
    "for index, row in air_raw.iterrows():\n",
    "    price_list.append(float(row['price'].strip('$')))\n",
    "    \n",
    "air_raw['price'] = price_list"
   ]
  },
  {
   "cell_type": "code",
   "execution_count": 108,
   "metadata": {},
   "outputs": [
    {
     "name": "stderr",
     "output_type": "stream",
     "text": [
      "/Users/brysonsicotte/anaconda3/lib/python3.7/site-packages/ipykernel_launcher.py:18: DeprecationWarning: Vincenty is deprecated and is going to be removed in geopy 2.0. Use `geopy.distance.geodesic` (or the default `geopy.distance.distance`) instead, which is more accurate and always converges.\n"
     ]
    }
   ],
   "source": [
    "# Create column for the distance to the city-center in miles, as the crow flies\n",
    "\n",
    "# First create a column combining 'latitude' and 'longitude' columns into one, resulting in (lat, long) tuples \n",
    "lat_long_list = []\n",
    "\n",
    "for index, row in air_raw.iterrows():\n",
    "    lat_long_list.append((air_raw['latitude'][index], air_raw['longitude'][index]))\n",
    "\n",
    "air_raw['lat_long'] = lat_long_list\n",
    "\n",
    "\n",
    "# Second create a distnce_to_city_center column from the 'lat_long' column\n",
    "city_center = (52.3600, 4.8852)\n",
    "\n",
    "distance_to_city_center_list = []\n",
    "\n",
    "for index, row in air_raw.iterrows():\n",
    "    distance_to_city_center_list.append(vincenty(city_center, air_raw['lat_long'][index]).miles)\n",
    "    \n",
    "air_raw['distance_to_city_center'] = distance_to_city_center_list"
   ]
  },
  {
   "cell_type": "code",
   "execution_count": 222,
   "metadata": {},
   "outputs": [],
   "source": [
    "air_raw.to_csv('air_raw.csv')"
   ]
  },
  {
   "cell_type": "code",
   "execution_count": null,
   "metadata": {},
   "outputs": [],
   "source": [
    "# -----end of initial cleaning for air_raw-----"
   ]
  },
  {
   "cell_type": "code",
   "execution_count": null,
   "metadata": {},
   "outputs": [],
   "source": []
  },
  {
   "cell_type": "code",
   "execution_count": null,
   "metadata": {},
   "outputs": [],
   "source": [
    "# Filter 'price' outliers, and create a 'small', 'medium', and 'large' version"
   ]
  },
  {
   "cell_type": "code",
   "execution_count": 112,
   "metadata": {},
   "outputs": [],
   "source": [
    "air_raw_small = air_raw[(air_raw['price'] < 399) & (air_raw['price'] > 20)]"
   ]
  },
  {
   "cell_type": "code",
   "execution_count": 114,
   "metadata": {},
   "outputs": [],
   "source": [
    "air_raw_medium = air_raw[(air_raw['price'] < 750) & (air_raw['price'] > 20)]"
   ]
  },
  {
   "cell_type": "code",
   "execution_count": 116,
   "metadata": {},
   "outputs": [],
   "source": [
    "air_raw_large = air_raw[(air_raw['price'] < 999) & (air_raw['price'] > 20)]"
   ]
  },
  {
   "cell_type": "code",
   "execution_count": null,
   "metadata": {},
   "outputs": [],
   "source": []
  },
  {
   "cell_type": "code",
   "execution_count": null,
   "metadata": {},
   "outputs": [],
   "source": [
    "# Create a 'base' dataframe with just the basic columns"
   ]
  },
  {
   "cell_type": "code",
   "execution_count": 235,
   "metadata": {},
   "outputs": [
    {
     "data": {
      "text/html": [
       "<div>\n",
       "<style scoped>\n",
       "    .dataframe tbody tr th:only-of-type {\n",
       "        vertical-align: middle;\n",
       "    }\n",
       "\n",
       "    .dataframe tbody tr th {\n",
       "        vertical-align: top;\n",
       "    }\n",
       "\n",
       "    .dataframe thead th {\n",
       "        text-align: right;\n",
       "    }\n",
       "</style>\n",
       "<table border=\"1\" class=\"dataframe\">\n",
       "  <thead>\n",
       "    <tr style=\"text-align: right;\">\n",
       "      <th></th>\n",
       "      <th>accommodates</th>\n",
       "      <th>bedrooms</th>\n",
       "      <th>bathrooms</th>\n",
       "      <th>beds</th>\n",
       "      <th>distance_to_city_center</th>\n",
       "      <th>price</th>\n",
       "    </tr>\n",
       "  </thead>\n",
       "  <tbody>\n",
       "    <tr>\n",
       "      <th>0</th>\n",
       "      <td>2</td>\n",
       "      <td>1.0</td>\n",
       "      <td>1.5</td>\n",
       "      <td>2.0</td>\n",
       "      <td>2.412697</td>\n",
       "      <td>59.0</td>\n",
       "    </tr>\n",
       "    <tr>\n",
       "      <th>1</th>\n",
       "      <td>2</td>\n",
       "      <td>1.0</td>\n",
       "      <td>1.0</td>\n",
       "      <td>1.0</td>\n",
       "      <td>0.498482</td>\n",
       "      <td>80.0</td>\n",
       "    </tr>\n",
       "    <tr>\n",
       "      <th>2</th>\n",
       "      <td>3</td>\n",
       "      <td>1.0</td>\n",
       "      <td>1.0</td>\n",
       "      <td>1.0</td>\n",
       "      <td>0.908770</td>\n",
       "      <td>125.0</td>\n",
       "    </tr>\n",
       "  </tbody>\n",
       "</table>\n",
       "</div>"
      ],
      "text/plain": [
       "   accommodates  bedrooms  bathrooms  beds  distance_to_city_center  price\n",
       "0             2       1.0        1.5   2.0                 2.412697   59.0\n",
       "1             2       1.0        1.0   1.0                 0.498482   80.0\n",
       "2             3       1.0        1.0   1.0                 0.908770  125.0"
      ]
     },
     "execution_count": 235,
     "metadata": {},
     "output_type": "execute_result"
    }
   ],
   "source": [
    "air_base3_l = air_raw_large[['accommodates','bedrooms','bathrooms','beds','distance_to_city_center','price']]\n",
    "air_base3_l.head(3)"
   ]
  },
  {
   "cell_type": "code",
   "execution_count": 236,
   "metadata": {},
   "outputs": [],
   "source": [
    "air_base3_l.to_csv('airbase3_l.csv')"
   ]
  },
  {
   "cell_type": "code",
   "execution_count": null,
   "metadata": {},
   "outputs": [],
   "source": []
  },
  {
   "cell_type": "code",
   "execution_count": null,
   "metadata": {},
   "outputs": [],
   "source": [
    "# Create a dataframe with amenities boolean columns"
   ]
  },
  {
   "cell_type": "code",
   "execution_count": 257,
   "metadata": {},
   "outputs": [],
   "source": [
    "amenity_list_full = []\n",
    "\n",
    "for line in air_raw_large['amenities'].str.split(','):\n",
    "    for item in line:\n",
    "        amenity_list_full.append(item)\n",
    "\n",
    "amenity_list_full = [char.replace('{', '') for char in amenity_list_full]\n",
    "amenity_list_full = [char.replace('}', '') for char in amenity_list_full]\n",
    "amenity_list_full = [char.replace('\"', '') for char in amenity_list_full]\n",
    "\n",
    "amenity_list_unique = set(amenity_list_full)"
   ]
  },
  {
   "cell_type": "code",
   "execution_count": 258,
   "metadata": {},
   "outputs": [
    {
     "data": {
      "text/plain": [
       "398697"
      ]
     },
     "execution_count": 258,
     "metadata": {},
     "output_type": "execute_result"
    }
   ],
   "source": [
    "len(amenity_list_full)"
   ]
  },
  {
   "cell_type": "code",
   "execution_count": 259,
   "metadata": {},
   "outputs": [
    {
     "data": {
      "text/plain": [
       "124"
      ]
     },
     "execution_count": 259,
     "metadata": {},
     "output_type": "execute_result"
    }
   ],
   "source": [
    "len(set(amenity_list_full))"
   ]
  },
  {
   "cell_type": "code",
   "execution_count": 260,
   "metadata": {},
   "outputs": [],
   "source": [
    "air_amenities = air_base3_l.copy(deep=True)"
   ]
  },
  {
   "cell_type": "code",
   "execution_count": 261,
   "metadata": {},
   "outputs": [],
   "source": [
    "amenity_list = [\n",
    "    'Indoor fireplace',\n",
    "    'Long term stays allowed',\n",
    "    'Dishwasher',\n",
    "    'Washer',\n",
    "    'Private entrance',\n",
    "    'TV',\n",
    "    'Pets allowed',\n",
    "    'Hot tub',\n",
    "    'Beachfront',\n",
    "    'Bathtub',\n",
    "    'Patio or balcony',\n",
    "    'Waterfront',\n",
    "    'Cable TV (or Satellite TV in US)',\n",
    "    'Family/kid friendly'\n",
    "]"
   ]
  },
  {
   "cell_type": "code",
   "execution_count": 262,
   "metadata": {},
   "outputs": [
    {
     "name": "stderr",
     "output_type": "stream",
     "text": [
      "/Users/brysonsicotte/anaconda3/lib/python3.7/site-packages/ipykernel_launcher.py:3: UserWarning: This pattern has match groups. To actually get the groups, use str.extract.\n",
      "  This is separate from the ipykernel package so we can avoid doing imports until\n"
     ]
    }
   ],
   "source": [
    "# Create a boolean column for each of the 15 amenities\n",
    "for amenity in amenity_list:\n",
    "    air_amenities[amenity] = air_raw_large['amenities'].str.contains(amenity)"
   ]
  },
  {
   "cell_type": "code",
   "execution_count": 263,
   "metadata": {},
   "outputs": [],
   "source": [
    "# Format the column headers\n",
    "formatted_amenity_cols = [\n",
    "'accommodates','bedrooms','bathrooms','beds','distance_to_city_center','price',\n",
    "'indoor_fireplace','long_term_stays_allowed','dishwasher','washer','private_entrance',\n",
    "'tv','pets_allowed','hot_tub','beachfront','bathtub','patio_or_balcony','waterfront',\n",
    "'cable_tv','kid_friendly'\n",
    "]\n",
    "\n",
    "air_amenities.columns = formatted_amenity_cols"
   ]
  },
  {
   "cell_type": "code",
   "execution_count": 264,
   "metadata": {},
   "outputs": [],
   "source": [
    "# Move 'price' to the end\n",
    "air_amenities = air_amenities [[\n",
    " 'accommodates',\n",
    " 'bedrooms',\n",
    " 'bathrooms',\n",
    " 'beds',\n",
    " 'distance_to_city_center',\n",
    " 'indoor_fireplace',\n",
    " 'long_term_stays_allowed',\n",
    " 'dishwasher',\n",
    " 'washer',\n",
    " 'private_entrance',\n",
    " 'tv',\n",
    " 'pets_allowed',\n",
    " 'hot_tub',\n",
    " 'beachfront',\n",
    " 'bathtub',\n",
    " 'patio_or_balcony',\n",
    " 'waterfront',\n",
    " 'cable_tv',\n",
    " 'kid_friendly',\n",
    " 'price'\n",
    "]]"
   ]
  },
  {
   "cell_type": "code",
   "execution_count": 265,
   "metadata": {},
   "outputs": [
    {
     "data": {
      "text/html": [
       "<div>\n",
       "<style scoped>\n",
       "    .dataframe tbody tr th:only-of-type {\n",
       "        vertical-align: middle;\n",
       "    }\n",
       "\n",
       "    .dataframe tbody tr th {\n",
       "        vertical-align: top;\n",
       "    }\n",
       "\n",
       "    .dataframe thead th {\n",
       "        text-align: right;\n",
       "    }\n",
       "</style>\n",
       "<table border=\"1\" class=\"dataframe\">\n",
       "  <thead>\n",
       "    <tr style=\"text-align: right;\">\n",
       "      <th></th>\n",
       "      <th>accommodates</th>\n",
       "      <th>bedrooms</th>\n",
       "      <th>bathrooms</th>\n",
       "      <th>beds</th>\n",
       "      <th>distance_to_city_center</th>\n",
       "      <th>indoor_fireplace</th>\n",
       "      <th>long_term_stays_allowed</th>\n",
       "      <th>dishwasher</th>\n",
       "      <th>washer</th>\n",
       "      <th>private_entrance</th>\n",
       "      <th>tv</th>\n",
       "      <th>pets_allowed</th>\n",
       "      <th>hot_tub</th>\n",
       "      <th>beachfront</th>\n",
       "      <th>bathtub</th>\n",
       "      <th>patio_or_balcony</th>\n",
       "      <th>waterfront</th>\n",
       "      <th>cable_tv</th>\n",
       "      <th>kid_friendly</th>\n",
       "      <th>price</th>\n",
       "    </tr>\n",
       "  </thead>\n",
       "  <tbody>\n",
       "    <tr>\n",
       "      <th>0</th>\n",
       "      <td>2</td>\n",
       "      <td>1.0</td>\n",
       "      <td>1.5</td>\n",
       "      <td>2.0</td>\n",
       "      <td>2.412697</td>\n",
       "      <td>False</td>\n",
       "      <td>False</td>\n",
       "      <td>False</td>\n",
       "      <td>True</td>\n",
       "      <td>True</td>\n",
       "      <td>False</td>\n",
       "      <td>False</td>\n",
       "      <td>False</td>\n",
       "      <td>False</td>\n",
       "      <td>False</td>\n",
       "      <td>False</td>\n",
       "      <td>False</td>\n",
       "      <td>False</td>\n",
       "      <td>False</td>\n",
       "      <td>59.0</td>\n",
       "    </tr>\n",
       "    <tr>\n",
       "      <th>1</th>\n",
       "      <td>2</td>\n",
       "      <td>1.0</td>\n",
       "      <td>1.0</td>\n",
       "      <td>1.0</td>\n",
       "      <td>0.498482</td>\n",
       "      <td>False</td>\n",
       "      <td>True</td>\n",
       "      <td>False</td>\n",
       "      <td>False</td>\n",
       "      <td>False</td>\n",
       "      <td>True</td>\n",
       "      <td>False</td>\n",
       "      <td>False</td>\n",
       "      <td>False</td>\n",
       "      <td>False</td>\n",
       "      <td>False</td>\n",
       "      <td>False</td>\n",
       "      <td>False</td>\n",
       "      <td>False</td>\n",
       "      <td>80.0</td>\n",
       "    </tr>\n",
       "    <tr>\n",
       "      <th>2</th>\n",
       "      <td>3</td>\n",
       "      <td>1.0</td>\n",
       "      <td>1.0</td>\n",
       "      <td>1.0</td>\n",
       "      <td>0.908770</td>\n",
       "      <td>True</td>\n",
       "      <td>False</td>\n",
       "      <td>False</td>\n",
       "      <td>True</td>\n",
       "      <td>False</td>\n",
       "      <td>True</td>\n",
       "      <td>False</td>\n",
       "      <td>False</td>\n",
       "      <td>False</td>\n",
       "      <td>False</td>\n",
       "      <td>False</td>\n",
       "      <td>False</td>\n",
       "      <td>False</td>\n",
       "      <td>True</td>\n",
       "      <td>125.0</td>\n",
       "    </tr>\n",
       "  </tbody>\n",
       "</table>\n",
       "</div>"
      ],
      "text/plain": [
       "   accommodates  bedrooms  bathrooms  beds  distance_to_city_center  \\\n",
       "0             2       1.0        1.5   2.0                 2.412697   \n",
       "1             2       1.0        1.0   1.0                 0.498482   \n",
       "2             3       1.0        1.0   1.0                 0.908770   \n",
       "\n",
       "   indoor_fireplace  long_term_stays_allowed  dishwasher  washer  \\\n",
       "0             False                    False       False    True   \n",
       "1             False                     True       False   False   \n",
       "2              True                    False       False    True   \n",
       "\n",
       "   private_entrance     tv  pets_allowed  hot_tub  beachfront  bathtub  \\\n",
       "0              True  False         False    False       False    False   \n",
       "1             False   True         False    False       False    False   \n",
       "2             False   True         False    False       False    False   \n",
       "\n",
       "   patio_or_balcony  waterfront  cable_tv  kid_friendly  price  \n",
       "0             False       False     False         False   59.0  \n",
       "1             False       False     False         False   80.0  \n",
       "2             False       False     False          True  125.0  "
      ]
     },
     "execution_count": 265,
     "metadata": {},
     "output_type": "execute_result"
    }
   ],
   "source": [
    "air_amenities.head(3)"
   ]
  },
  {
   "cell_type": "code",
   "execution_count": 266,
   "metadata": {},
   "outputs": [],
   "source": [
    "air_amenities.to_csv('air_amenities_l.csv')"
   ]
  },
  {
   "cell_type": "code",
   "execution_count": null,
   "metadata": {},
   "outputs": [],
   "source": []
  },
  {
   "cell_type": "code",
   "execution_count": null,
   "metadata": {},
   "outputs": [],
   "source": [
    "# Create dataframe for neighborhood booleans"
   ]
  },
  {
   "cell_type": "code",
   "execution_count": 285,
   "metadata": {},
   "outputs": [],
   "source": [
    "air_hood_l = air_base3_l.copy(deep=True)"
   ]
  },
  {
   "cell_type": "code",
   "execution_count": 286,
   "metadata": {},
   "outputs": [],
   "source": [
    "# create a list of all unique neighborhoods\n",
    "neighborhood_list_full = []\n",
    "\n",
    "for row in air_raw_large['neighbourhood']:\n",
    "    neighborhood_list_full.append(row)\n",
    "\n",
    "neighborhood_list_unique = list(set(neighborhood_list_full))"
   ]
  },
  {
   "cell_type": "code",
   "execution_count": 287,
   "metadata": {},
   "outputs": [],
   "source": [
    "# To ensure all elements are of type str (incl. nan)\n",
    "neighborhood_list_unique = list(map(str, neighborhood_list_unique))"
   ]
  },
  {
   "cell_type": "code",
   "execution_count": 288,
   "metadata": {},
   "outputs": [],
   "source": [
    "for hood in neighborhood_list_unique:\n",
    "    air_hood_l[hood] = air_raw_large['neighbourhood'].str.contains(hood)"
   ]
  },
  {
   "cell_type": "code",
   "execution_count": 289,
   "metadata": {},
   "outputs": [],
   "source": [
    "# Move 'price' to the end\n",
    "air_hood_l = air_hood_l[[\n",
    " 'accommodates',\n",
    " 'bedrooms',\n",
    " 'bathrooms',\n",
    " 'beds',\n",
    " 'distance_to_city_center',\n",
    " 'Jordaan',\n",
    " 'nan',\n",
    " 'Oostelijke Eilanden en Kadijken',\n",
    " 'Weesperbuurt en Plantage',\n",
    " 'Museumkwartier',\n",
    " 'Tuindorp Nieuwendam',\n",
    " 'Tuindorp Buiksloot',\n",
    " 'Banne Buiksloot',\n",
    " 'Slotermeer-Zuidwest',\n",
    " 'Oud-West',\n",
    " 'Osdorp',\n",
    " 'Stadionbuurt',\n",
    " 'Grachtengordel',\n",
    " 'Buikslotermeer',\n",
    " 'Westelijke Eilanden',\n",
    " 'Oost',\n",
    " 'Spaarndammer en Zeeheldenbuurt',\n",
    " 'Slotervaart',\n",
    " 'Buitenveldert-Oost',\n",
    " 'Nieuwendammerham',\n",
    " 'Slotermeer-Noordoost',\n",
    " 'Watergraafsmeer',\n",
    " 'Tuindorp Oostzaan',\n",
    " 'Nieuwendammerdijk en Buiksloterdijk',\n",
    " 'Buitenveldert-West',\n",
    " 'De Wallen',\n",
    " 'Nieuwmarkt en Lastage',\n",
    " 'Amsterdam Centrum',\n",
    " 'Oosterparkbuurt',\n",
    " 'Oostzanerwerf',\n",
    " 'Zeeburg',\n",
    " 'Landelijk Noord',\n",
    " 'Overtoomse Veld',\n",
    " 'IJplein en Vogelbuurt',\n",
    " 'Kadoelen',\n",
    " 'Frederik Hendrikbuurt',\n",
    " 'Volewijck',\n",
    " 'Indische Buurt',\n",
    " 'Oud-Zuid',\n",
    " 'Hoofddorppleinbuurt',\n",
    " 'De Pijp',\n",
    " 'Rivierenbuurt',\n",
    " 'Buiksloterham',\n",
    " 'Nieuwendam-Noord',\n",
    " 'Bos en Lommer',\n",
    " 'price'\n",
    "]]"
   ]
  },
  {
   "cell_type": "code",
   "execution_count": 290,
   "metadata": {},
   "outputs": [
    {
     "data": {
      "text/html": [
       "<div>\n",
       "<style scoped>\n",
       "    .dataframe tbody tr th:only-of-type {\n",
       "        vertical-align: middle;\n",
       "    }\n",
       "\n",
       "    .dataframe tbody tr th {\n",
       "        vertical-align: top;\n",
       "    }\n",
       "\n",
       "    .dataframe thead th {\n",
       "        text-align: right;\n",
       "    }\n",
       "</style>\n",
       "<table border=\"1\" class=\"dataframe\">\n",
       "  <thead>\n",
       "    <tr style=\"text-align: right;\">\n",
       "      <th></th>\n",
       "      <th>accommodates</th>\n",
       "      <th>bedrooms</th>\n",
       "      <th>bathrooms</th>\n",
       "      <th>beds</th>\n",
       "      <th>distance_to_city_center</th>\n",
       "      <th>Jordaan</th>\n",
       "      <th>nan</th>\n",
       "      <th>Oostelijke Eilanden en Kadijken</th>\n",
       "      <th>Weesperbuurt en Plantage</th>\n",
       "      <th>Museumkwartier</th>\n",
       "      <th>Tuindorp Nieuwendam</th>\n",
       "      <th>Tuindorp Buiksloot</th>\n",
       "      <th>Banne Buiksloot</th>\n",
       "      <th>Slotermeer-Zuidwest</th>\n",
       "      <th>Oud-West</th>\n",
       "      <th>Osdorp</th>\n",
       "      <th>Stadionbuurt</th>\n",
       "      <th>Grachtengordel</th>\n",
       "      <th>Buikslotermeer</th>\n",
       "      <th>Westelijke Eilanden</th>\n",
       "      <th>Oost</th>\n",
       "      <th>Spaarndammer en Zeeheldenbuurt</th>\n",
       "      <th>Slotervaart</th>\n",
       "      <th>Buitenveldert-Oost</th>\n",
       "      <th>Nieuwendammerham</th>\n",
       "      <th>Slotermeer-Noordoost</th>\n",
       "      <th>Watergraafsmeer</th>\n",
       "      <th>Tuindorp Oostzaan</th>\n",
       "      <th>Nieuwendammerdijk en Buiksloterdijk</th>\n",
       "      <th>Buitenveldert-West</th>\n",
       "      <th>De Wallen</th>\n",
       "      <th>Nieuwmarkt en Lastage</th>\n",
       "      <th>Amsterdam Centrum</th>\n",
       "      <th>Oosterparkbuurt</th>\n",
       "      <th>Oostzanerwerf</th>\n",
       "      <th>Zeeburg</th>\n",
       "      <th>Landelijk Noord</th>\n",
       "      <th>Overtoomse Veld</th>\n",
       "      <th>IJplein en Vogelbuurt</th>\n",
       "      <th>Kadoelen</th>\n",
       "      <th>Frederik Hendrikbuurt</th>\n",
       "      <th>Volewijck</th>\n",
       "      <th>Indische Buurt</th>\n",
       "      <th>Oud-Zuid</th>\n",
       "      <th>Hoofddorppleinbuurt</th>\n",
       "      <th>De Pijp</th>\n",
       "      <th>Rivierenbuurt</th>\n",
       "      <th>Buiksloterham</th>\n",
       "      <th>Nieuwendam-Noord</th>\n",
       "      <th>Bos en Lommer</th>\n",
       "      <th>price</th>\n",
       "    </tr>\n",
       "  </thead>\n",
       "  <tbody>\n",
       "    <tr>\n",
       "      <th>0</th>\n",
       "      <td>2</td>\n",
       "      <td>1.0</td>\n",
       "      <td>1.5</td>\n",
       "      <td>2.0</td>\n",
       "      <td>2.412697</td>\n",
       "      <td>False</td>\n",
       "      <td>False</td>\n",
       "      <td>False</td>\n",
       "      <td>False</td>\n",
       "      <td>False</td>\n",
       "      <td>False</td>\n",
       "      <td>False</td>\n",
       "      <td>False</td>\n",
       "      <td>False</td>\n",
       "      <td>False</td>\n",
       "      <td>False</td>\n",
       "      <td>False</td>\n",
       "      <td>False</td>\n",
       "      <td>False</td>\n",
       "      <td>False</td>\n",
       "      <td>False</td>\n",
       "      <td>False</td>\n",
       "      <td>False</td>\n",
       "      <td>False</td>\n",
       "      <td>False</td>\n",
       "      <td>False</td>\n",
       "      <td>False</td>\n",
       "      <td>False</td>\n",
       "      <td>False</td>\n",
       "      <td>False</td>\n",
       "      <td>False</td>\n",
       "      <td>False</td>\n",
       "      <td>False</td>\n",
       "      <td>False</td>\n",
       "      <td>False</td>\n",
       "      <td>False</td>\n",
       "      <td>False</td>\n",
       "      <td>False</td>\n",
       "      <td>False</td>\n",
       "      <td>False</td>\n",
       "      <td>False</td>\n",
       "      <td>False</td>\n",
       "      <td>True</td>\n",
       "      <td>False</td>\n",
       "      <td>False</td>\n",
       "      <td>False</td>\n",
       "      <td>False</td>\n",
       "      <td>False</td>\n",
       "      <td>False</td>\n",
       "      <td>False</td>\n",
       "      <td>59.0</td>\n",
       "    </tr>\n",
       "    <tr>\n",
       "      <th>1</th>\n",
       "      <td>2</td>\n",
       "      <td>1.0</td>\n",
       "      <td>1.0</td>\n",
       "      <td>1.0</td>\n",
       "      <td>0.498482</td>\n",
       "      <td>False</td>\n",
       "      <td>False</td>\n",
       "      <td>False</td>\n",
       "      <td>False</td>\n",
       "      <td>False</td>\n",
       "      <td>False</td>\n",
       "      <td>False</td>\n",
       "      <td>False</td>\n",
       "      <td>False</td>\n",
       "      <td>False</td>\n",
       "      <td>False</td>\n",
       "      <td>False</td>\n",
       "      <td>True</td>\n",
       "      <td>False</td>\n",
       "      <td>False</td>\n",
       "      <td>False</td>\n",
       "      <td>False</td>\n",
       "      <td>False</td>\n",
       "      <td>False</td>\n",
       "      <td>False</td>\n",
       "      <td>False</td>\n",
       "      <td>False</td>\n",
       "      <td>False</td>\n",
       "      <td>False</td>\n",
       "      <td>False</td>\n",
       "      <td>False</td>\n",
       "      <td>False</td>\n",
       "      <td>False</td>\n",
       "      <td>False</td>\n",
       "      <td>False</td>\n",
       "      <td>False</td>\n",
       "      <td>False</td>\n",
       "      <td>False</td>\n",
       "      <td>False</td>\n",
       "      <td>False</td>\n",
       "      <td>False</td>\n",
       "      <td>False</td>\n",
       "      <td>False</td>\n",
       "      <td>False</td>\n",
       "      <td>False</td>\n",
       "      <td>False</td>\n",
       "      <td>False</td>\n",
       "      <td>False</td>\n",
       "      <td>False</td>\n",
       "      <td>False</td>\n",
       "      <td>80.0</td>\n",
       "    </tr>\n",
       "    <tr>\n",
       "      <th>2</th>\n",
       "      <td>3</td>\n",
       "      <td>1.0</td>\n",
       "      <td>1.0</td>\n",
       "      <td>1.0</td>\n",
       "      <td>0.908770</td>\n",
       "      <td>False</td>\n",
       "      <td>False</td>\n",
       "      <td>False</td>\n",
       "      <td>False</td>\n",
       "      <td>False</td>\n",
       "      <td>False</td>\n",
       "      <td>False</td>\n",
       "      <td>False</td>\n",
       "      <td>False</td>\n",
       "      <td>False</td>\n",
       "      <td>False</td>\n",
       "      <td>False</td>\n",
       "      <td>True</td>\n",
       "      <td>False</td>\n",
       "      <td>False</td>\n",
       "      <td>False</td>\n",
       "      <td>False</td>\n",
       "      <td>False</td>\n",
       "      <td>False</td>\n",
       "      <td>False</td>\n",
       "      <td>False</td>\n",
       "      <td>False</td>\n",
       "      <td>False</td>\n",
       "      <td>False</td>\n",
       "      <td>False</td>\n",
       "      <td>False</td>\n",
       "      <td>False</td>\n",
       "      <td>False</td>\n",
       "      <td>False</td>\n",
       "      <td>False</td>\n",
       "      <td>False</td>\n",
       "      <td>False</td>\n",
       "      <td>False</td>\n",
       "      <td>False</td>\n",
       "      <td>False</td>\n",
       "      <td>False</td>\n",
       "      <td>False</td>\n",
       "      <td>False</td>\n",
       "      <td>False</td>\n",
       "      <td>False</td>\n",
       "      <td>False</td>\n",
       "      <td>False</td>\n",
       "      <td>False</td>\n",
       "      <td>False</td>\n",
       "      <td>False</td>\n",
       "      <td>125.0</td>\n",
       "    </tr>\n",
       "  </tbody>\n",
       "</table>\n",
       "</div>"
      ],
      "text/plain": [
       "   accommodates  bedrooms  bathrooms  beds  distance_to_city_center Jordaan  \\\n",
       "0             2       1.0        1.5   2.0                 2.412697   False   \n",
       "1             2       1.0        1.0   1.0                 0.498482   False   \n",
       "2             3       1.0        1.0   1.0                 0.908770   False   \n",
       "\n",
       "     nan Oostelijke Eilanden en Kadijken Weesperbuurt en Plantage  \\\n",
       "0  False                           False                    False   \n",
       "1  False                           False                    False   \n",
       "2  False                           False                    False   \n",
       "\n",
       "  Museumkwartier Tuindorp Nieuwendam Tuindorp Buiksloot Banne Buiksloot  \\\n",
       "0          False               False              False           False   \n",
       "1          False               False              False           False   \n",
       "2          False               False              False           False   \n",
       "\n",
       "  Slotermeer-Zuidwest Oud-West Osdorp Stadionbuurt Grachtengordel  \\\n",
       "0               False    False  False        False          False   \n",
       "1               False    False  False        False           True   \n",
       "2               False    False  False        False           True   \n",
       "\n",
       "  Buikslotermeer Westelijke Eilanden   Oost Spaarndammer en Zeeheldenbuurt  \\\n",
       "0          False               False  False                          False   \n",
       "1          False               False  False                          False   \n",
       "2          False               False  False                          False   \n",
       "\n",
       "  Slotervaart Buitenveldert-Oost Nieuwendammerham Slotermeer-Noordoost  \\\n",
       "0       False              False            False                False   \n",
       "1       False              False            False                False   \n",
       "2       False              False            False                False   \n",
       "\n",
       "  Watergraafsmeer Tuindorp Oostzaan Nieuwendammerdijk en Buiksloterdijk  \\\n",
       "0           False             False                               False   \n",
       "1           False             False                               False   \n",
       "2           False             False                               False   \n",
       "\n",
       "  Buitenveldert-West De Wallen Nieuwmarkt en Lastage Amsterdam Centrum  \\\n",
       "0              False     False                 False             False   \n",
       "1              False     False                 False             False   \n",
       "2              False     False                 False             False   \n",
       "\n",
       "  Oosterparkbuurt Oostzanerwerf Zeeburg Landelijk Noord Overtoomse Veld  \\\n",
       "0           False         False   False           False           False   \n",
       "1           False         False   False           False           False   \n",
       "2           False         False   False           False           False   \n",
       "\n",
       "  IJplein en Vogelbuurt Kadoelen Frederik Hendrikbuurt Volewijck  \\\n",
       "0                 False    False                 False     False   \n",
       "1                 False    False                 False     False   \n",
       "2                 False    False                 False     False   \n",
       "\n",
       "  Indische Buurt Oud-Zuid Hoofddorppleinbuurt De Pijp Rivierenbuurt  \\\n",
       "0           True    False               False   False         False   \n",
       "1          False    False               False   False         False   \n",
       "2          False    False               False   False         False   \n",
       "\n",
       "  Buiksloterham Nieuwendam-Noord Bos en Lommer  price  \n",
       "0         False            False         False   59.0  \n",
       "1         False            False         False   80.0  \n",
       "2         False            False         False  125.0  "
      ]
     },
     "execution_count": 290,
     "metadata": {},
     "output_type": "execute_result"
    }
   ],
   "source": [
    "air_hood_l.head(3)"
   ]
  },
  {
   "cell_type": "code",
   "execution_count": 291,
   "metadata": {},
   "outputs": [],
   "source": [
    "air_hood_m.to_csv('air_hood_m.csv')"
   ]
  },
  {
   "cell_type": "code",
   "execution_count": null,
   "metadata": {},
   "outputs": [],
   "source": []
  },
  {
   "cell_type": "code",
   "execution_count": 308,
   "metadata": {},
   "outputs": [],
   "source": [
    "# Create dataframe with alternative 'neighborhood' method\n",
    "    # Using 'neighborhood_overview' column\n",
    "    # Using a list of neighborhoods from wikipedia, find rows where each neighborhood is found in\n",
    "    #the 'neighborhood overview' column\n",
    "\n",
    "air_hood_alt_l = air_raw_large.copy(deep=True)"
   ]
  },
  {
   "cell_type": "code",
   "execution_count": 309,
   "metadata": {},
   "outputs": [],
   "source": [
    "air_hood_alt_l = air_hood_alt_l[air_hood_alt_l['neighborhood_overview'].notnull()]"
   ]
  },
  {
   "cell_type": "code",
   "execution_count": 310,
   "metadata": {},
   "outputs": [],
   "source": [
    "hood_wiki = [\n",
    "    'Admiralenbuurt',\n",
    "    'Amsteldorp',\n",
    "    'Oud-West',\n",
    "    'Oud-Zuid',\n",
    "    'Science Park',\n",
    "    'Apollobuurt',\n",
    "    'Betondorp',\n",
    "    'Bijlmermeer',\n",
    "    'Binnenstad',\n",
    "    'Bos en Lommer',\n",
    "    'Buiksloot',\n",
    "    'Buikslotermeer',\n",
    "    'Buitenveldert',\n",
    "    'Bullewijk',\n",
    "    'Nieuwe Zijde',\n",
    "    'Chassébuurt',\n",
    "    'Cruquiuseiland',\n",
    "    'Czaar Peterbuurt',\n",
    "    'Dapperbuurt',\n",
    "    'De Aker',\n",
    "    'De Pijp',\n",
    "    'De Wallen',\n",
    "    'Diamantbuurt ',\n",
    "    'Duivelseiland',\n",
    "    'Eastern Docklands',\n",
    "    'Eendracht ',\n",
    "    'Floradorp',\n",
    "    'Frederik Hendrikbuurt',\n",
    "    'Gaasperdam',\n",
    "    'Geuzenveld',\n",
    "    'Gouden Reael',\n",
    "    'Grachtengordel',\n",
    "    'Haarlemmerbuurt',\n",
    "    'Hoofddorppleinbuurt',\n",
    "    'Houthaven',\n",
    "    'IJburg',\n",
    "    'Indische Buurt',\n",
    "    'Java-eiland',\n",
    "    'Jodenbuurt',\n",
    "    'Jordaan',\n",
    "    'Kadijken',\n",
    "    'Kadoelen',\n",
    "    'Kinkerbuurt',\n",
    "    'KNSM',\n",
    "    'Kolenkit',\n",
    "    'Landelijk',\n",
    "    'Landlust',\n",
    "    'Lastage',\n",
    "    'Middelveldsche Akerpolder',\n",
    "    'Molenwijk',\n",
    "    'Museumkwartier',\n",
    "    'NDSM',\n",
    "    'Negen Straatjes',\n",
    "    'Nieuw Sloten',\n",
    "    'Nieuwe Pijp',\n",
    "    'Nieuwendam',\n",
    "    'Nieuwendammerdijk',\n",
    "    'Olympisch',\n",
    "    'Omval',\n",
    "    'Oostelijke Eilanden',\n",
    "    'Oosterdokseiland',\n",
    "    'Oosterparkbuurt',\n",
    "    'Oostoever',\n",
    "    'Oostpoort',\n",
    "    'Oostzanerwerf',\n",
    "    'Osdorp',\n",
    "    'Oud Osdorp',\n",
    "    'Oud-Oost',\n",
    "    'Oude Pijp',\n",
    "    'Overhoeks',\n",
    "    'Overtoombuurt',\n",
    "    'Overtoomse Veld',\n",
    "    'Plantage',\n",
    "    'Prinses Irenebuurt',\n",
    "    'Ransdorp',\n",
    "    'Rieteilanden',\n",
    "    'Rivierenbuurt',\n",
    "    'Ruigoord',\n",
    "    'Schellingwoude',\n",
    "    'Schinkelbuurt',\n",
    "    'Slotermeer',\n",
    "    'Slotervaart',\n",
    "    'Spaarndammerbuurt',\n",
    "    'Staatsliedenbuurt',\n",
    "    'Stadionbuurt',\n",
    "    'Steigereiland',\n",
    "    'Teleport',\n",
    "    'Transvaalbuurt',\n",
    "    'Trompbuurt',\n",
    "    'Nieuwendam',\n",
    "    'Oostzaan',\n",
    "    'Uilenburg',\n",
    "    'Venserpolder',\n",
    "    'Watergraafsmeer',\n",
    "    'Waterwijk',\n",
    "    'Weesperzijde',\n",
    "    'Westelijk Havengebied',\n",
    "    'Westelijke Eilanden',\n",
    "    'Westelijke Tuinsteden',\n",
    "    'Westerpark',\n",
    "    'Willemspark',\n",
    "    'Zeeburgereiland',\n",
    "    'Zeeheldenbuurt',\n",
    "    'Zuidas'\n",
    "]"
   ]
  },
  {
   "cell_type": "code",
   "execution_count": 311,
   "metadata": {},
   "outputs": [],
   "source": [
    "for hood in hood_wiki:\n",
    "    air_hood_alt_l[hood] = air_hood_alt_l['neighborhood_overview'].str.contains(hood)    "
   ]
  },
  {
   "cell_type": "code",
   "execution_count": 312,
   "metadata": {},
   "outputs": [],
   "source": [
    "# keep only the necessary columns, place 'price' at the end\n",
    "air_hood_alt_l = air_hood_alt_l[[\n",
    "    'accommodates','bedrooms','bathrooms','beds','distance_to_city_center',\n",
    "    'Admiralenbuurt',\n",
    "    'Amsteldorp',\n",
    "    'Oud-West',\n",
    "    'Oud-Zuid',\n",
    "    'Science Park',\n",
    "    'Apollobuurt',\n",
    "    'Betondorp',\n",
    "    'Bijlmermeer',\n",
    "    'Binnenstad',\n",
    "    'Bos en Lommer',\n",
    "    'Buiksloot',\n",
    "    'Buikslotermeer',\n",
    "    'Buitenveldert',\n",
    "    'Bullewijk',\n",
    "    'Nieuwe Zijde',\n",
    "    'Chassébuurt',\n",
    "    'Cruquiuseiland',\n",
    "    'Czaar Peterbuurt',\n",
    "    'Dapperbuurt',\n",
    "    'De Aker',\n",
    "    'De Pijp',\n",
    "    'De Wallen',\n",
    "    'Diamantbuurt ',\n",
    "    'Duivelseiland',\n",
    "    'Eastern Docklands',\n",
    "    'Eendracht ',\n",
    "    'Floradorp',\n",
    "    'Frederik Hendrikbuurt',\n",
    "    'Gaasperdam',\n",
    "    'Geuzenveld',\n",
    "    'Gouden Reael',\n",
    "    'Grachtengordel',\n",
    "    'Haarlemmerbuurt',\n",
    "    'Hoofddorppleinbuurt',\n",
    "    'Houthaven',\n",
    "    'IJburg',\n",
    "    'Indische Buurt',\n",
    "    'Java-eiland',\n",
    "    'Jodenbuurt',\n",
    "    'Jordaan',\n",
    "    'Kadijken',\n",
    "    'Kadoelen',\n",
    "    'Kinkerbuurt',\n",
    "    'KNSM',\n",
    "    'Kolenkit',\n",
    "    'Landelijk',\n",
    "    'Landlust',\n",
    "    'Lastage',\n",
    "    'Middelveldsche Akerpolder',\n",
    "    'Molenwijk',\n",
    "    'Museumkwartier',\n",
    "    'NDSM',\n",
    "    'Negen Straatjes',\n",
    "    'Nieuw Sloten',\n",
    "    'Nieuwe Pijp',\n",
    "    'Nieuwendam',\n",
    "    'Nieuwendammerdijk',\n",
    "    'Olympisch',\n",
    "    'Omval',\n",
    "    'Oostelijke Eilanden',\n",
    "    'Oosterdokseiland',\n",
    "    'Oosterparkbuurt',\n",
    "    'Oostoever',\n",
    "    'Oostpoort',\n",
    "    'Oostzanerwerf',\n",
    "    'Osdorp',\n",
    "    'Oud Osdorp',\n",
    "    'Oud-Oost',\n",
    "    'Oude Pijp',\n",
    "    'Overhoeks',\n",
    "    'Overtoombuurt',\n",
    "    'Overtoomse Veld',\n",
    "    'Plantage',\n",
    "    'Prinses Irenebuurt',\n",
    "    'Ransdorp',\n",
    "    'Rieteilanden',\n",
    "    'Rivierenbuurt',\n",
    "    'Ruigoord',\n",
    "    'Schellingwoude',\n",
    "    'Schinkelbuurt',\n",
    "    'Slotermeer',\n",
    "    'Slotervaart',\n",
    "    'Spaarndammerbuurt',\n",
    "    'Staatsliedenbuurt',\n",
    "    'Stadionbuurt',\n",
    "    'Steigereiland',\n",
    "    'Teleport',\n",
    "    'Transvaalbuurt',\n",
    "    'Trompbuurt',\n",
    "    'Nieuwendam',\n",
    "    'Oostzaan',\n",
    "    'Uilenburg',\n",
    "    'Venserpolder',\n",
    "    'Watergraafsmeer',\n",
    "    'Waterwijk',\n",
    "    'Weesperzijde',\n",
    "    'Westelijk Havengebied',\n",
    "    'Westelijke Eilanden',\n",
    "    'Westelijke Tuinsteden',\n",
    "    'Westerpark',\n",
    "    'Willemspark',\n",
    "    'Zeeburgereiland',\n",
    "    'Zeeheldenbuurt',\n",
    "    'Zuidas',\n",
    "    'price'\n",
    "]]"
   ]
  },
  {
   "cell_type": "code",
   "execution_count": 313,
   "metadata": {},
   "outputs": [],
   "source": [
    "air_hood_alt_l.to_csv('air_hood_alt_l.csv')"
   ]
  },
  {
   "cell_type": "code",
   "execution_count": null,
   "metadata": {},
   "outputs": [],
   "source": []
  },
  {
   "cell_type": "code",
   "execution_count": null,
   "metadata": {},
   "outputs": [],
   "source": [
    "# EDA"
   ]
  },
  {
   "cell_type": "code",
   "execution_count": 316,
   "metadata": {},
   "outputs": [
    {
     "data": {
      "text/html": [
       "<div>\n",
       "<style scoped>\n",
       "    .dataframe tbody tr th:only-of-type {\n",
       "        vertical-align: middle;\n",
       "    }\n",
       "\n",
       "    .dataframe tbody tr th {\n",
       "        vertical-align: top;\n",
       "    }\n",
       "\n",
       "    .dataframe thead th {\n",
       "        text-align: right;\n",
       "    }\n",
       "</style>\n",
       "<table border=\"1\" class=\"dataframe\">\n",
       "  <thead>\n",
       "    <tr style=\"text-align: right;\">\n",
       "      <th></th>\n",
       "      <th>accommodates</th>\n",
       "      <th>bedrooms</th>\n",
       "      <th>bathrooms</th>\n",
       "      <th>beds</th>\n",
       "      <th>distance_to_city_center</th>\n",
       "      <th>price</th>\n",
       "    </tr>\n",
       "  </thead>\n",
       "  <tbody>\n",
       "    <tr>\n",
       "      <th>0</th>\n",
       "      <td>2</td>\n",
       "      <td>1.0</td>\n",
       "      <td>1.5</td>\n",
       "      <td>2.0</td>\n",
       "      <td>2.412697</td>\n",
       "      <td>59.0</td>\n",
       "    </tr>\n",
       "    <tr>\n",
       "      <th>1</th>\n",
       "      <td>2</td>\n",
       "      <td>1.0</td>\n",
       "      <td>1.0</td>\n",
       "      <td>1.0</td>\n",
       "      <td>0.498482</td>\n",
       "      <td>80.0</td>\n",
       "    </tr>\n",
       "    <tr>\n",
       "      <th>2</th>\n",
       "      <td>3</td>\n",
       "      <td>1.0</td>\n",
       "      <td>1.0</td>\n",
       "      <td>1.0</td>\n",
       "      <td>0.908770</td>\n",
       "      <td>125.0</td>\n",
       "    </tr>\n",
       "    <tr>\n",
       "      <th>3</th>\n",
       "      <td>2</td>\n",
       "      <td>1.0</td>\n",
       "      <td>1.0</td>\n",
       "      <td>1.0</td>\n",
       "      <td>1.870978</td>\n",
       "      <td>150.0</td>\n",
       "    </tr>\n",
       "    <tr>\n",
       "      <th>4</th>\n",
       "      <td>2</td>\n",
       "      <td>1.0</td>\n",
       "      <td>1.0</td>\n",
       "      <td>2.0</td>\n",
       "      <td>1.587564</td>\n",
       "      <td>65.0</td>\n",
       "    </tr>\n",
       "  </tbody>\n",
       "</table>\n",
       "</div>"
      ],
      "text/plain": [
       "   accommodates  bedrooms  bathrooms  beds  distance_to_city_center  price\n",
       "0             2       1.0        1.5   2.0                 2.412697   59.0\n",
       "1             2       1.0        1.0   1.0                 0.498482   80.0\n",
       "2             3       1.0        1.0   1.0                 0.908770  125.0\n",
       "3             2       1.0        1.0   1.0                 1.870978  150.0\n",
       "4             2       1.0        1.0   2.0                 1.587564   65.0"
      ]
     },
     "execution_count": 316,
     "metadata": {},
     "output_type": "execute_result"
    }
   ],
   "source": [
    "air_base3.head()"
   ]
  },
  {
   "cell_type": "code",
   "execution_count": 390,
   "metadata": {},
   "outputs": [
    {
     "data": {
      "text/plain": [
       "Text(0.5, 1.0, 'Airbnb Prices in Amsterdam (outliers removed)')"
      ]
     },
     "execution_count": 390,
     "metadata": {},
     "output_type": "execute_result"
    },
    {
     "data": {
      "image/png": "[encoded data removed]",
      "text/plain": [
       "<Figure size 432x288 with 1 Axes>"
      ]
     },
     "metadata": {
      "needs_background": "light"
     },
     "output_type": "display_data"
    }
   ],
   "source": [
    "sns.distplot(air_base3_s['price'], kde=False, axlabel='Price', bins=10).set_title('Airbnb Prices in Amsterdam (outliers removed)')"
   ]
  },
  {
   "cell_type": "code",
   "execution_count": 404,
   "metadata": {},
   "outputs": [
    {
     "data": {
      "text/plain": [
       "Text(0, 0.5, 'Price')"
      ]
     },
     "execution_count": 404,
     "metadata": {},
     "output_type": "execute_result"
    },
    {
     "data": {
      "image/png": "[encoded data removed]",
      "text/plain": [
       "<Figure size 432x288 with 1 Axes>"
      ]
     },
     "metadata": {
      "needs_background": "light"
     },
     "output_type": "display_data"
    }
   ],
   "source": [
    "plt.scatter(air_base3_s['bedrooms'], air_base3_s['price'])\n",
    "plt.xlabel('Number of Bedrooms')\n",
    "plt.ylabel('Price')"
   ]
  },
  {
   "cell_type": "code",
   "execution_count": 407,
   "metadata": {},
   "outputs": [
    {
     "data": {
      "text/plain": [
       "0.32084361398762606"
      ]
     },
     "execution_count": 407,
     "metadata": {},
     "output_type": "execute_result"
    }
   ],
   "source": [
    "air_raw['square_feet'].dropna().corr(air_raw['price'])"
   ]
  },
  {
   "cell_type": "code",
   "execution_count": 330,
   "metadata": {},
   "outputs": [
    {
     "data": {
      "image/png": "[encoded data removed]",
      "text/plain": [
       "<Figure size 432x288 with 1 Axes>"
      ]
     },
     "metadata": {
      "needs_background": "light"
     },
     "output_type": "display_data"
    }
   ],
   "source": [
    "plt.scatter(air_base3_s['bathrooms'], air_base3_s['price'])\n",
    "plt.xlabel('Number of Bathrooms')\n",
    "plt.ylabel('Price')\n",
    "plt.xlim(-0.5,6)\n",
    "plt.tight_layout()"
   ]
  },
  {
   "cell_type": "code",
   "execution_count": 333,
   "metadata": {},
   "outputs": [
    {
     "data": {
      "text/plain": [
       "Text(0, 0.5, 'Price')"
      ]
     },
     "execution_count": 333,
     "metadata": {},
     "output_type": "execute_result"
    },
    {
     "data": {
      "image/png": "[encoded data removed]",
      "text/plain": [
       "<Figure size 432x288 with 1 Axes>"
      ]
     },
     "metadata": {
      "needs_background": "light"
     },
     "output_type": "display_data"
    }
   ],
   "source": [
    "plt.scatter(air_base3_s['distance_to_city_center'], air_base3_s['price'])\n",
    "plt.xlabel('Distance to City Center (miles)')\n",
    "plt.ylabel('Price')"
   ]
  },
  {
   "cell_type": "code",
   "execution_count": 355,
   "metadata": {},
   "outputs": [
    {
     "data": {
      "text/plain": [
       "Text(0, 0.5, 'Price')"
      ]
     },
     "execution_count": 355,
     "metadata": {},
     "output_type": "execute_result"
    },
    {
     "data": {
      "image/png": "[encoded data removed]",
      "text/plain": [
       "<Figure size 432x288 with 1 Axes>"
      ]
     },
     "metadata": {
      "needs_background": "light"
     },
     "output_type": "display_data"
    }
   ],
   "source": [
    "plt.scatter(air_base3_s['beds'], air_base3_s['price'])\n",
    "plt.xlabel('Number of beds')\n",
    "plt.ylabel('Price')"
   ]
  },
  {
   "cell_type": "code",
   "execution_count": 361,
   "metadata": {},
   "outputs": [
    {
     "data": {
      "image/png": "[encoded data removed]",
      "text/plain": [
       "<Figure size 432x288 with 1 Axes>"
      ]
     },
     "metadata": {
      "needs_background": "light"
     },
     "output_type": "display_data"
    }
   ],
   "source": [
    "plt.hist(air_raw['review_scores_rating'])\n",
    "plt.title('Ratings for Airbnb Hosts')\n",
    "plt.xlabel('Review Scores Rating')\n",
    "plt.xlim(50,100)\n",
    "plt.tight_layout()"
   ]
  },
  {
   "cell_type": "code",
   "execution_count": 372,
   "metadata": {},
   "outputs": [
    {
     "data": {
      "text/plain": [
       "Text(0, 0.5, 'Price')"
      ]
     },
     "execution_count": 372,
     "metadata": {},
     "output_type": "execute_result"
    },
    {
     "data": {
      "image/png": "[encoded data removed]",
      "text/plain": [
       "<Figure size 432x288 with 1 Axes>"
      ]
     },
     "metadata": {
      "needs_background": "light"
     },
     "output_type": "display_data"
    }
   ],
   "source": [
    "plt.scatter(air_raw['square_feet'], air_raw['price'])\n",
    "plt.xlim(20,2250)\n",
    "plt.ylim(0,450)\n",
    "plt.xlabel('Square Footage')\n",
    "plt.ylabel('Price')"
   ]
  },
  {
   "cell_type": "code",
   "execution_count": 384,
   "metadata": {},
   "outputs": [
    {
     "data": {
      "text/plain": [
       "141.59034751064613"
      ]
     },
     "execution_count": 384,
     "metadata": {},
     "output_type": "execute_result"
    }
   ],
   "source": [
    "np.mean(air_base3_s['price'])"
   ]
  },
  {
   "cell_type": "code",
   "execution_count": 385,
   "metadata": {},
   "outputs": [
    {
     "data": {
      "text/plain": [
       "125.0"
      ]
     },
     "execution_count": 385,
     "metadata": {},
     "output_type": "execute_result"
    }
   ],
   "source": [
    "np.median(air_base3_s['price'])"
   ]
  },
  {
   "cell_type": "code",
   "execution_count": 386,
   "metadata": {},
   "outputs": [
    {
     "data": {
      "text/plain": [
       "64.9468228233521"
      ]
     },
     "execution_count": 386,
     "metadata": {},
     "output_type": "execute_result"
    }
   ],
   "source": [
    "np.std(air_base3_s['price'])"
   ]
  },
  {
   "cell_type": "code",
   "execution_count": null,
   "metadata": {},
   "outputs": [],
   "source": []
  }
 ],
 "metadata": {
  "kernelspec": {
   "display_name": "Python 3",
   "language": "python",
   "name": "python3"
  },
  "language_info": {
   "codemirror_mode": {
    "name": "ipython",
    "version": 3
   },
   "file_extension": ".py",
   "mimetype": "text/x-python",
   "name": "python",
   "nbconvert_exporter": "python",
   "pygments_lexer": "ipython3",
   "version": "3.7.1"
  }
 },
 "nbformat": 4,
 "nbformat_minor": 2
}
