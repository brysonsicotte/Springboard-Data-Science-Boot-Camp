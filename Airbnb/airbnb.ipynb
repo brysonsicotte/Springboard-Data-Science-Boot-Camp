{
 "cells": [
  {
   "cell_type": "code",
   "execution_count": 1,
   "metadata": {},
   "outputs": [],
   "source": [
    "import pandas as pd\n",
    "import numpy as np\n",
    "import matplotlib.pyplot as plt\n",
    "import seaborn as sns\n",
    "from scipy.stats import pearsonr\n",
    "from geopy.distance import vincenty\n",
    "import time\n",
    "\n",
    "pd.set_option('display.max_columns', None)"
   ]
  },
  {
   "cell_type": "markdown",
   "metadata": {},
   "source": [
    "### Read in data, and explore columns"
   ]
  },
  {
   "cell_type": "code",
   "execution_count": 2,
   "metadata": {},
   "outputs": [
    {
     "name": "stderr",
     "output_type": "stream",
     "text": [
      "/Users/brysonsicotte/anaconda3/lib/python3.7/site-packages/IPython/core/interactiveshell.py:3020: DtypeWarning: Columns (94) have mixed types. Specify dtype option on import or set low_memory=False.\n",
      "  interactivity=interactivity, compiler=compiler, result=result)\n"
     ]
    }
   ],
   "source": [
    "air_raw = pd.read_csv('listings.csv')"
   ]
  },
  {
   "cell_type": "code",
   "execution_count": 3,
   "metadata": {},
   "outputs": [
    {
     "name": "stdout",
     "output_type": "stream",
     "text": [
      "<class 'pandas.core.frame.DataFrame'>\n",
      "RangeIndex: 19619 entries, 0 to 19618\n",
      "Data columns (total 106 columns):\n",
      "id                                              19619 non-null int64\n",
      "listing_url                                     19619 non-null object\n",
      "scrape_id                                       19619 non-null int64\n",
      "last_scraped                                    19619 non-null object\n",
      "name                                            19583 non-null object\n",
      "summary                                         19109 non-null object\n",
      "space                                           14428 non-null object\n",
      "description                                     19495 non-null object\n",
      "experiences_offered                             19619 non-null object\n",
      "neighborhood_overview                           13220 non-null object\n",
      "notes                                           8910 non-null object\n",
      "transit                                         13547 non-null object\n",
      "access                                          11947 non-null object\n",
      "interaction                                     11973 non-null object\n",
      "house_rules                                     12309 non-null object\n",
      "thumbnail_url                                   0 non-null float64\n",
      "medium_url                                      0 non-null float64\n",
      "picture_url                                     19619 non-null object\n",
      "xl_picture_url                                  0 non-null float64\n",
      "host_id                                         19619 non-null int64\n",
      "host_url                                        19619 non-null object\n",
      "host_name                                       19605 non-null object\n",
      "host_since                                      19605 non-null object\n",
      "host_location                                   19569 non-null object\n",
      "host_about                                      11538 non-null object\n",
      "host_response_time                              11357 non-null object\n",
      "host_response_rate                              11357 non-null object\n",
      "host_acceptance_rate                            0 non-null float64\n",
      "host_is_superhost                               19605 non-null object\n",
      "host_thumbnail_url                              19605 non-null object\n",
      "host_picture_url                                19605 non-null object\n",
      "host_neighbourhood                              13989 non-null object\n",
      "host_listings_count                             19605 non-null float64\n",
      "host_total_listings_count                       19605 non-null float64\n",
      "host_verifications                              19619 non-null object\n",
      "host_has_profile_pic                            19605 non-null object\n",
      "host_identity_verified                          19605 non-null object\n",
      "street                                          19619 non-null object\n",
      "neighbourhood                                   18849 non-null object\n",
      "neighbourhood_cleansed                          19619 non-null object\n",
      "neighbourhood_group_cleansed                    0 non-null float64\n",
      "city                                            19616 non-null object\n",
      "state                                           19425 non-null object\n",
      "zipcode                                         18753 non-null object\n",
      "market                                          19579 non-null object\n",
      "smart_location                                  19619 non-null object\n",
      "country_code                                    19619 non-null object\n",
      "country                                         19619 non-null object\n",
      "latitude                                        19619 non-null float64\n",
      "longitude                                       19619 non-null float64\n",
      "is_location_exact                               19619 non-null object\n",
      "property_type                                   19619 non-null object\n",
      "room_type                                       19619 non-null object\n",
      "accommodates                                    19619 non-null int64\n",
      "bathrooms                                       19611 non-null float64\n",
      "bedrooms                                        19611 non-null float64\n",
      "beds                                            19612 non-null float64\n",
      "bed_type                                        19619 non-null object\n",
      "amenities                                       19619 non-null object\n",
      "square_feet                                     385 non-null float64\n",
      "price                                           19619 non-null object\n",
      "weekly_price                                    2660 non-null object\n",
      "monthly_price                                   1425 non-null object\n",
      "security_deposit                                13712 non-null object\n",
      "cleaning_fee                                    16124 non-null object\n",
      "guests_included                                 19619 non-null int64\n",
      "extra_people                                    19619 non-null object\n",
      "minimum_nights                                  19619 non-null int64\n",
      "maximum_nights                                  19619 non-null int64\n",
      "minimum_minimum_nights                          19619 non-null int64\n",
      "maximum_minimum_nights                          19619 non-null int64\n",
      "minimum_maximum_nights                          19619 non-null int64\n",
      "maximum_maximum_nights                          19619 non-null int64\n",
      "minimum_nights_avg_ntm                          19619 non-null float64\n",
      "maximum_nights_avg_ntm                          19619 non-null float64\n",
      "calendar_updated                                19619 non-null object\n",
      "has_availability                                19619 non-null object\n",
      "availability_30                                 19619 non-null int64\n",
      "availability_60                                 19619 non-null int64\n",
      "availability_90                                 19619 non-null int64\n",
      "availability_365                                19619 non-null int64\n",
      "calendar_last_scraped                           19619 non-null object\n",
      "number_of_reviews                               19619 non-null int64\n",
      "number_of_reviews_ltm                           19619 non-null int64\n",
      "first_review                                    17403 non-null object\n",
      "last_review                                     17403 non-null object\n",
      "review_scores_rating                            17180 non-null float64\n",
      "review_scores_accuracy                          17170 non-null float64\n",
      "review_scores_cleanliness                       17172 non-null float64\n",
      "review_scores_checkin                           17161 non-null float64\n",
      "review_scores_communication                     17168 non-null float64\n",
      "review_scores_location                          17162 non-null float64\n",
      "review_scores_value                             17163 non-null float64\n",
      "requires_license                                19619 non-null object\n",
      "license                                         8 non-null object\n",
      "jurisdiction_names                              19486 non-null object\n",
      "instant_bookable                                19619 non-null object\n",
      "is_business_travel_ready                        19619 non-null object\n",
      "cancellation_policy                             19619 non-null object\n",
      "require_guest_profile_picture                   19619 non-null object\n",
      "require_guest_phone_verification                19619 non-null object\n",
      "calculated_host_listings_count                  19619 non-null int64\n",
      "calculated_host_listings_count_entire_homes     19619 non-null int64\n",
      "calculated_host_listings_count_private_rooms    19619 non-null int64\n",
      "calculated_host_listings_count_shared_rooms     19619 non-null int64\n",
      "reviews_per_month                               17403 non-null float64\n",
      "dtypes: float64(23), int64(21), object(62)\n",
      "memory usage: 15.9+ MB\n"
     ]
    }
   ],
   "source": [
    "air_raw.info(verbose=True, null_counts=True)"
   ]
  },
  {
   "cell_type": "markdown",
   "metadata": {},
   "source": [
    "### Preprocessing"
   ]
  },
  {
   "cell_type": "markdown",
   "metadata": {},
   "source": [
    "We see that price is not in numeric format. Let's convert that now."
   ]
  },
  {
   "cell_type": "code",
   "execution_count": 4,
   "metadata": {},
   "outputs": [],
   "source": [
    "air_raw['price'] = air_raw['price'].replace('[\\$,]', '', regex=True).astype(float)"
   ]
  },
  {
   "cell_type": "markdown",
   "metadata": {},
   "source": [
    "##### Exploring the target variable \"price\""
   ]
  },
  {
   "cell_type": "markdown",
   "metadata": {},
   "source": [
    "The boxplot below shows that the majority of Airbnbs cost less than $350 per night."
   ]
  },
  {
   "cell_type": "code",
   "execution_count": 5,
   "metadata": {},
   "outputs": [
    {
     "data": {
      "text/plain": [
       "<matplotlib.axes._subplots.AxesSubplot at 0x109a29e10>"
      ]
     },
     "execution_count": 5,
     "metadata": {},
     "output_type": "execute_result"
    },
    {
     "data": {
      "image/png": "[encoded data removed]",
      "text/plain": [
       "<Figure size 432x288 with 1 Axes>"
      ]
     },
     "metadata": {
      "needs_background": "light"
     },
     "output_type": "display_data"
    }
   ],
   "source": [
    "sns.boxplot(air_raw['price'])"
   ]
  },
  {
   "cell_type": "markdown",
   "metadata": {},
   "source": [
    "Indeed, roughly 96.5% of all listings are \\\\$350 or less."
   ]
  },
  {
   "cell_type": "code",
   "execution_count": 6,
   "metadata": {},
   "outputs": [
    {
     "data": {
      "text/plain": [
       "0.965135837708344"
      ]
     },
     "execution_count": 6,
     "metadata": {},
     "output_type": "execute_result"
    }
   ],
   "source": [
    "sum(air_raw['price'] <= 350)/len(air_raw)"
   ]
  },
  {
   "cell_type": "markdown",
   "metadata": {},
   "source": [
    "An exploration of the more expensive listings revealed that they often have unique and novel features. See the link below for an example. Keeping these listings in the dataset would lead to overfitting. "
   ]
  },
  {
   "cell_type": "code",
   "execution_count": 7,
   "metadata": {},
   "outputs": [],
   "source": [
    "# https://www.airbnb.com/rooms/5341871"
   ]
  },
  {
   "cell_type": "markdown",
   "metadata": {},
   "source": [
    "Similarly, listings that are priced unreasonably low, or at zero are likely bad data, and should be excluded from the model."
   ]
  },
  {
   "cell_type": "code",
   "execution_count": 8,
   "metadata": {},
   "outputs": [
    {
     "data": {
      "text/plain": [
       "10"
      ]
     },
     "execution_count": 8,
     "metadata": {},
     "output_type": "execute_result"
    }
   ],
   "source": [
    "sum(air_raw['price'] < 20)"
   ]
  },
  {
   "cell_type": "markdown",
   "metadata": {},
   "source": [
    "Let's remove listings less than \\\\$20 and greater than \\\\$350."
   ]
  },
  {
   "cell_type": "code",
   "execution_count": 9,
   "metadata": {},
   "outputs": [],
   "source": [
    "air_raw = air_raw[(air_raw['price'] > 19) & (air_raw['price'] < 351)]"
   ]
  },
  {
   "cell_type": "markdown",
   "metadata": {},
   "source": [
    "With outliers removed, here is the distribution of price (per night)."
   ]
  },
  {
   "cell_type": "code",
   "execution_count": 10,
   "metadata": {},
   "outputs": [
    {
     "name": "stderr",
     "output_type": "stream",
     "text": [
      "/Users/brysonsicotte/anaconda3/lib/python3.7/site-packages/scipy/stats/stats.py:1713: FutureWarning: Using a non-tuple sequence for multidimensional indexing is deprecated; use `arr[tuple(seq)]` instead of `arr[seq]`. In the future this will be interpreted as an array index, `arr[np.array(seq)]`, which will result either in an error or a different result.\n",
      "  return np.add.reduce(sorted[indexer] * weights, axis=axis) / sumval\n"
     ]
    },
    {
     "data": {
      "text/plain": [
       "<matplotlib.axes._subplots.AxesSubplot at 0x1a25d982b0>"
      ]
     },
     "execution_count": 10,
     "metadata": {},
     "output_type": "execute_result"
    },
    {
     "data": {
      "image/png": "[encoded data removed]",
      "text/plain": [
       "<Figure size 432x288 with 1 Axes>"
      ]
     },
     "metadata": {
      "needs_background": "light"
     },
     "output_type": "display_data"
    }
   ],
   "source": [
    "sns.distplot(air_raw['price'], kde=False, color='Blue')"
   ]
  },
  {
   "cell_type": "markdown",
   "metadata": {},
   "source": [
    "##### Create a feature for the distance to the city center"
   ]
  },
  {
   "cell_type": "markdown",
   "metadata": {},
   "source": [
    "It is generally true that Airbnb prices increase the closer you are to the city, and research reveals this is the case in Amsterdam. We therefore create a feature for the distance to the city center in miles, as the crow flies."
   ]
  },
  {
   "cell_type": "code",
   "execution_count": 11,
   "metadata": {},
   "outputs": [
    {
     "name": "stderr",
     "output_type": "stream",
     "text": [
      "/Users/brysonsicotte/anaconda3/lib/python3.7/site-packages/ipykernel_launcher.py:16: DeprecationWarning: Vincenty is deprecated and is going to be removed in geopy 2.0. Use `geopy.distance.geodesic` (or the default `geopy.distance.distance`) instead, which is more accurate and always converges.\n",
      "  app.launch_new_instance()\n"
     ]
    }
   ],
   "source": [
    "# First, create a column combining 'latitude' and 'longitude' columns.  \n",
    "lat_long_list = []\n",
    "\n",
    "for index, row in air_raw.iterrows():\n",
    "    lat_long_list.append((air_raw['latitude'][index], air_raw['longitude'][index]))\n",
    "\n",
    "air_raw['lat_long'] = lat_long_list\n",
    "\n",
    "\n",
    "# Second, create a distance_to_city_center column using the new 'lat_long' column.\n",
    "city_center = (52.3600, 4.8852)\n",
    "\n",
    "distance_to_city_center_list = []\n",
    "\n",
    "for index, row in air_raw.iterrows():\n",
    "    distance_to_city_center_list.append(vincenty(city_center, air_raw['lat_long'][index]).miles)\n",
    "    \n",
    "air_raw['distance_to_city_center'] = distance_to_city_center_list"
   ]
  },
  {
   "cell_type": "markdown",
   "metadata": {},
   "source": [
    "### Remove text-based columns"
   ]
  },
  {
   "cell_type": "markdown",
   "metadata": {},
   "source": [
    "The following columns contain textual data, and will be set aside for now. Future improvements to the model may look to these columns to extract commonalities among the words that are most associated with price movement."
   ]
  },
  {
   "cell_type": "code",
   "execution_count": 12,
   "metadata": {},
   "outputs": [],
   "source": [
    "air_raw.drop(['summary', 'space', 'description', 'neighborhood_overview', 'notes', 'transit',\n",
    "             'access', 'house_rules', 'xl_picture_url', 'host_about', 'interaction', 'name'],\n",
    "            axis=1, inplace=True)"
   ]
  },
  {
   "cell_type": "markdown",
   "metadata": {},
   "source": [
    "### Dealing with missing data"
   ]
  },
  {
   "cell_type": "markdown",
   "metadata": {},
   "source": [
    "Due to the relatively small size of this dataset, columns with more than 25% of the data missing will be removed (17 columns). It is possible that the absence of data in one or more of these columns could, in and of itself be a predictor, but our initial analysis will ignore this for now."
   ]
  },
  {
   "cell_type": "code",
   "execution_count": 13,
   "metadata": {},
   "outputs": [],
   "source": [
    "# Drop columns with more than 25% nulls\n",
    "for col in air_raw.columns:\n",
    "    if sum(air_raw[col].isnull())/len(air_raw) > 0.25:\n",
    "        air_raw.drop(col, axis=1, inplace=True)"
   ]
  },
  {
   "cell_type": "markdown",
   "metadata": {},
   "source": [
    "### Exploring review-based columns"
   ]
  },
  {
   "cell_type": "markdown",
   "metadata": {},
   "source": [
    "The column 'review_scores_rating' contains scores on a scale of 1-100, which gives it more variability than other scores in the data, and thus more predictive power. Other 'review_scores' columns contain scores on a scale of 1-10, and thus have less variability. See the plots below for an illustration of this."
   ]
  },
  {
   "cell_type": "code",
   "execution_count": 14,
   "metadata": {},
   "outputs": [
    {
     "data": {
      "text/plain": [
       "<matplotlib.axes._subplots.AxesSubplot at 0x1081b0a90>"
      ]
     },
     "execution_count": 14,
     "metadata": {},
     "output_type": "execute_result"
    },
    {
     "data": {
      "image/png": "[encoded data removed]",
      "text/plain": [
       "<Figure size 432x288 with 1 Axes>"
      ]
     },
     "metadata": {
      "needs_background": "light"
     },
     "output_type": "display_data"
    }
   ],
   "source": [
    "sns.distplot(air_raw['review_scores_rating'].dropna(), kde=False, color='Blue')"
   ]
  },
  {
   "cell_type": "code",
   "execution_count": 15,
   "metadata": {},
   "outputs": [
    {
     "data": {
      "text/plain": [
       "<matplotlib.axes._subplots.AxesSubplot at 0x1a1ee2bf28>"
      ]
     },
     "execution_count": 15,
     "metadata": {},
     "output_type": "execute_result"
    },
    {
     "data": {
      "image/png": "[encoded data removed]",
      "text/plain": [
       "<Figure size 432x288 with 1 Axes>"
      ]
     },
     "metadata": {
      "needs_background": "light"
     },
     "output_type": "display_data"
    }
   ],
   "source": [
    "sns.distplot(air_raw['review_scores_cleanliness'].dropna(), kde=False, color='Blue')"
   ]
  },
  {
   "cell_type": "markdown",
   "metadata": {},
   "source": [
    "About 10% of the the data in the reviews columns is missing. For now, these features will be left out of the model. At a later time it may be worth bringing them back. In order to be usable, rows with null values would either need to be dropped altogether, or the values imputed in some way. The dataset's small size suggests that the latter option is preferable. "
   ]
  },
  {
   "cell_type": "code",
   "execution_count": 16,
   "metadata": {},
   "outputs": [
    {
     "name": "stdout",
     "output_type": "stream",
     "text": [
      "Null values in 'review_scores_rating':  2225\n",
      "Total rows:  18925\n"
     ]
    }
   ],
   "source": [
    "print(\"Null values in 'review_scores_rating': \", sum(air_raw['review_scores_rating'].isnull()))\n",
    "print('Total rows: ', len(air_raw))"
   ]
  },
  {
   "cell_type": "code",
   "execution_count": 17,
   "metadata": {},
   "outputs": [],
   "source": [
    "air_raw.drop(['review_scores_accuracy', 'review_scores_cleanliness', 'review_scores_checkin',\n",
    "             'review_scores_communication', 'review_scores_location', 'review_scores_value'],\n",
    "             axis=1, inplace=True)"
   ]
  },
  {
   "cell_type": "markdown",
   "metadata": {},
   "source": [
    "### Remove remaining unecessary columns"
   ]
  },
  {
   "cell_type": "markdown",
   "metadata": {},
   "source": [
    "The following columns were dropped for a variety of reasons: \n",
    "- Various unique identifiers\n",
    "- They would not be generalizable to other cities\n",
    "- They are correlated with other features \n",
    "- They are too dominant in one category (categorical and boolean columns)"
   ]
  },
  {
   "cell_type": "code",
   "execution_count": 18,
   "metadata": {},
   "outputs": [],
   "source": [
    "air_raw.drop(['id', 'listing_url', 'experiences_offered', 'picture_url', 'scrape_id', \n",
    "              'last_scraped', 'host_id', 'host_url', 'host_name', 'host_location', \n",
    "              'host_thumbnail_url',  'host_picture_url', 'host_total_listings_count',\n",
    "              'host_verifications', 'host_has_profile_pic', 'street', 'neighbourhood',\n",
    "              'city', 'state', 'zipcode', 'market', 'smart_location', 'country_code',\n",
    "              'country', 'latitude', 'longitude', 'bed_type', 'guests_included', \n",
    "              'calendar_updated', 'has_availability', 'calendar_last_scraped',\n",
    "              'requires_license', 'jurisdiction_names', 'is_business_travel_ready',\n",
    "              'require_guest_profile_picture', 'require_guest_phone_verification',\n",
    "              'lat_long'],\n",
    "             axis=1, inplace=True\n",
    "            )             "
   ]
  },
  {
   "cell_type": "markdown",
   "metadata": {},
   "source": [
    "The 'cleaning_fee', 'first_review', 'last_review', 'review_scores_rating', and 'reviews_per_month' columns were dropped due to nulls. Without imputation, they would have reduced the dataset by roughly 5,000 rows. It is recommended that these columns be a examined first when looking for additional features for the model. The first step will be determining the best way to impute missing data."
   ]
  },
  {
   "cell_type": "code",
   "execution_count": 19,
   "metadata": {},
   "outputs": [],
   "source": [
    "# drop wild card features in an effort to preserve as many rows as possible\n",
    "air_raw.drop(['cleaning_fee', 'first_review', 'last_review',\n",
    "             'review_scores_rating', 'reviews_per_month'], axis=1, inplace=True)"
   ]
  },
  {
   "cell_type": "code",
   "execution_count": 20,
   "metadata": {},
   "outputs": [],
   "source": [
    "# drop any remaining nulls in the dataset\n",
    "air_raw.dropna(inplace=True)"
   ]
  },
  {
   "cell_type": "markdown",
   "metadata": {},
   "source": [
    "### Converting columns to numeric"
   ]
  },
  {
   "cell_type": "markdown",
   "metadata": {},
   "source": [
    "There are several columns that should be numeric, but are classified as the datatype 'object'. Let's convert these now."
   ]
  },
  {
   "cell_type": "code",
   "execution_count": 21,
   "metadata": {},
   "outputs": [],
   "source": [
    "# convert 'extra_people' to numeric\n",
    "air_raw['extra_people'] = air_raw['extra_people'].replace('[\\$,]', '', regex=True).astype(float)"
   ]
  },
  {
   "cell_type": "code",
   "execution_count": 22,
   "metadata": {},
   "outputs": [],
   "source": [
    "# convert 'host_since' to datetime, then convert it to int\n",
    "air_raw['host_since'] = pd.to_datetime(air_raw['host_since']).dt.strftime('%Y%m%d').astype(int)"
   ]
  },
  {
   "cell_type": "code",
   "execution_count": 23,
   "metadata": {},
   "outputs": [],
   "source": [
    "# convert columns from object to boolean\n",
    "air_raw['host_is_superhost'] = air_raw['host_is_superhost'].astype('bool')\n",
    "air_raw['host_identity_verified'] = air_raw['host_identity_verified'].astype('bool')\n",
    "air_raw['is_location_exact'] = air_raw['is_location_exact'].astype('bool')\n",
    "air_raw['instant_bookable'] = air_raw['instant_bookable'].astype('bool')"
   ]
  },
  {
   "cell_type": "markdown",
   "metadata": {},
   "source": [
    "### Move target variable to the end"
   ]
  },
  {
   "cell_type": "code",
   "execution_count": 24,
   "metadata": {},
   "outputs": [],
   "source": [
    "last_col = ['price']\n",
    "air_raw = air_raw[[col for col in air_raw if col not in last_col]\n",
    "                  +[col for col in last_col]]"
   ]
  },
  {
   "cell_type": "code",
   "execution_count": 25,
   "metadata": {},
   "outputs": [
    {
     "name": "stdout",
     "output_type": "stream",
     "text": [
      "<class 'pandas.core.frame.DataFrame'>\n",
      "Int64Index: 18890 entries, 0 to 19618\n",
      "Data columns (total 36 columns):\n",
      "host_since                                      18890 non-null int64\n",
      "host_is_superhost                               18890 non-null bool\n",
      "host_listings_count                             18890 non-null float64\n",
      "host_identity_verified                          18890 non-null bool\n",
      "neighbourhood_cleansed                          18890 non-null object\n",
      "is_location_exact                               18890 non-null bool\n",
      "property_type                                   18890 non-null object\n",
      "room_type                                       18890 non-null object\n",
      "accommodates                                    18890 non-null int64\n",
      "bathrooms                                       18890 non-null float64\n",
      "bedrooms                                        18890 non-null float64\n",
      "beds                                            18890 non-null float64\n",
      "amenities                                       18890 non-null object\n",
      "extra_people                                    18890 non-null float64\n",
      "minimum_nights                                  18890 non-null int64\n",
      "maximum_nights                                  18890 non-null int64\n",
      "minimum_minimum_nights                          18890 non-null int64\n",
      "maximum_minimum_nights                          18890 non-null int64\n",
      "minimum_maximum_nights                          18890 non-null int64\n",
      "maximum_maximum_nights                          18890 non-null int64\n",
      "minimum_nights_avg_ntm                          18890 non-null float64\n",
      "maximum_nights_avg_ntm                          18890 non-null float64\n",
      "availability_30                                 18890 non-null int64\n",
      "availability_60                                 18890 non-null int64\n",
      "availability_90                                 18890 non-null int64\n",
      "availability_365                                18890 non-null int64\n",
      "number_of_reviews                               18890 non-null int64\n",
      "number_of_reviews_ltm                           18890 non-null int64\n",
      "instant_bookable                                18890 non-null bool\n",
      "cancellation_policy                             18890 non-null object\n",
      "calculated_host_listings_count                  18890 non-null int64\n",
      "calculated_host_listings_count_entire_homes     18890 non-null int64\n",
      "calculated_host_listings_count_private_rooms    18890 non-null int64\n",
      "calculated_host_listings_count_shared_rooms     18890 non-null int64\n",
      "distance_to_city_center                         18890 non-null float64\n",
      "price                                           18890 non-null float64\n",
      "dtypes: bool(4), float64(9), int64(18), object(5)\n",
      "memory usage: 4.8+ MB\n"
     ]
    }
   ],
   "source": [
    "air_raw.info(verbose=True, null_counts=True)"
   ]
  },
  {
   "cell_type": "markdown",
   "metadata": {},
   "source": [
    "### Machine learning and model evaluation"
   ]
  },
  {
   "cell_type": "code",
   "execution_count": 26,
   "metadata": {},
   "outputs": [],
   "source": [
    "from sklearn.model_selection import train_test_split, GridSearchCV, cross_val_predict\n",
    "from sklearn.metrics import mean_absolute_error, mean_squared_error, explained_variance_score "
   ]
  },
  {
   "cell_type": "markdown",
   "metadata": {},
   "source": [
    "Let's divide the data into two DataFrames; one for categorical features, and one for numeric features. The first iteration of model testing will focus on numeric features."
   ]
  },
  {
   "cell_type": "code",
   "execution_count": 27,
   "metadata": {},
   "outputs": [],
   "source": [
    "# Divide the data into numerical and categorical columns\n",
    "categoricals = air_raw[['neighbourhood_cleansed', 'property_type', \n",
    "                        'room_type', 'cancellation_policy', 'price']]\n",
    "\n",
    "numericals = air_raw.drop(['neighbourhood_cleansed', 'property_type',\n",
    "                          'room_type', 'cancellation_policy', 'amenities'],\n",
    "                         axis=1)"
   ]
  },
  {
   "cell_type": "markdown",
   "metadata": {},
   "source": [
    "##### Split 'numericals' into features (X) and target (y)"
   ]
  },
  {
   "cell_type": "code",
   "execution_count": 28,
   "metadata": {},
   "outputs": [],
   "source": [
    "X = numericals.drop(['price'], axis=1)\n",
    "y = numericals.iloc[:,-1]"
   ]
  },
  {
   "cell_type": "markdown",
   "metadata": {},
   "source": [
    "##### Scale the features"
   ]
  },
  {
   "cell_type": "code",
   "execution_count": 29,
   "metadata": {},
   "outputs": [
    {
     "name": "stderr",
     "output_type": "stream",
     "text": [
      "/Users/brysonsicotte/anaconda3/lib/python3.7/site-packages/sklearn/preprocessing/data.py:625: DataConversionWarning: Data with input dtype bool, int64, float64 were all converted to float64 by StandardScaler.\n",
      "  return self.partial_fit(X, y)\n",
      "/Users/brysonsicotte/anaconda3/lib/python3.7/site-packages/sklearn/preprocessing/data.py:625: DataConversionWarning: Data with input dtype bool, int64, float64 were all converted to float64 by StandardScaler.\n",
      "  return self.partial_fit(X, y)\n",
      "/Users/brysonsicotte/anaconda3/lib/python3.7/site-packages/sklearn/base.py:462: DataConversionWarning: Data with input dtype bool, int64, float64 were all converted to float64 by StandardScaler.\n",
      "  return self.fit(X, **fit_params).transform(X)\n"
     ]
    },
    {
     "data": {
      "text/plain": [
       "array([[-3.42759185,  0.        , -0.16355874, ...,  0.5398328 ,\n",
       "        -0.08608409,  0.7507921 ],\n",
       "       [-2.89138027,  0.        , -0.12292343, ...,  0.5398328 ,\n",
       "        -0.08608409, -1.11021193],\n",
       "       [-2.89565828,  0.        , -0.12292343, ..., -0.38234496,\n",
       "        -0.08608409, -0.71132875],\n",
       "       ...,\n",
       "       [ 2.28923326,  0.        , -0.12292343, ..., -0.38234496,\n",
       "        -0.08608409,  0.23951303],\n",
       "       [ 2.27963383,  0.        , -0.16355874, ..., -0.38234496,\n",
       "        -0.08608409, -0.02487057],\n",
       "       [-0.83068548,  0.        , -0.12292343, ...,  0.5398328 ,\n",
       "        -0.08608409, -1.0860356 ]])"
      ]
     },
     "execution_count": 29,
     "metadata": {},
     "output_type": "execute_result"
    }
   ],
   "source": [
    "from sklearn.preprocessing import StandardScaler\n",
    "scaler = StandardScaler()\n",
    "scaler.fit(X)\n",
    "scaler.fit_transform(X)"
   ]
  },
  {
   "cell_type": "markdown",
   "metadata": {},
   "source": [
    "##### Create a dataframe to store the metrics for each model\n",
    "We will test mean absolute error (MAE), root mean squared error (RMSE), and R-squared. "
   ]
  },
  {
   "cell_type": "code",
   "execution_count": 30,
   "metadata": {},
   "outputs": [],
   "source": [
    "metrics = pd.DataFrame(index=['MAE', 'RMSE', 'R-squared', 'Time to Train (s)'], \n",
    "                       columns=['Linear Regression',  'Decision Tree', 'Random Forest'])"
   ]
  },
  {
   "cell_type": "code",
   "execution_count": 31,
   "metadata": {},
   "outputs": [
    {
     "data": {
      "text/html": [
       "<div>\n",
       "<style scoped>\n",
       "    .dataframe tbody tr th:only-of-type {\n",
       "        vertical-align: middle;\n",
       "    }\n",
       "\n",
       "    .dataframe tbody tr th {\n",
       "        vertical-align: top;\n",
       "    }\n",
       "\n",
       "    .dataframe thead th {\n",
       "        text-align: right;\n",
       "    }\n",
       "</style>\n",
       "<table border=\"1\" class=\"dataframe\">\n",
       "  <thead>\n",
       "    <tr style=\"text-align: right;\">\n",
       "      <th></th>\n",
       "      <th>Linear Regression</th>\n",
       "      <th>Decision Tree</th>\n",
       "      <th>Random Forest</th>\n",
       "    </tr>\n",
       "  </thead>\n",
       "  <tbody>\n",
       "    <tr>\n",
       "      <th>MAE</th>\n",
       "      <td>NaN</td>\n",
       "      <td>NaN</td>\n",
       "      <td>NaN</td>\n",
       "    </tr>\n",
       "    <tr>\n",
       "      <th>RMSE</th>\n",
       "      <td>NaN</td>\n",
       "      <td>NaN</td>\n",
       "      <td>NaN</td>\n",
       "    </tr>\n",
       "    <tr>\n",
       "      <th>R-squared</th>\n",
       "      <td>NaN</td>\n",
       "      <td>NaN</td>\n",
       "      <td>NaN</td>\n",
       "    </tr>\n",
       "    <tr>\n",
       "      <th>Time to Train (s)</th>\n",
       "      <td>NaN</td>\n",
       "      <td>NaN</td>\n",
       "      <td>NaN</td>\n",
       "    </tr>\n",
       "  </tbody>\n",
       "</table>\n",
       "</div>"
      ],
      "text/plain": [
       "                  Linear Regression Decision Tree Random Forest\n",
       "MAE                             NaN           NaN           NaN\n",
       "RMSE                            NaN           NaN           NaN\n",
       "R-squared                       NaN           NaN           NaN\n",
       "Time to Train (s)               NaN           NaN           NaN"
      ]
     },
     "execution_count": 31,
     "metadata": {},
     "output_type": "execute_result"
    }
   ],
   "source": [
    "metrics"
   ]
  },
  {
   "cell_type": "markdown",
   "metadata": {},
   "source": [
    "The function below will streamline the process of training and scoring models."
   ]
  },
  {
   "cell_type": "code",
   "execution_count": 32,
   "metadata": {},
   "outputs": [],
   "source": [
    "def train_and_score_model(model_name, estimator, param_grid=None, cv=5, iid=False):\n",
    "    \n",
    "    # Create the GridSearchCV objects\n",
    "    if model_name in ['Linear Regression']:\n",
    "        cv = estimator\n",
    "    else:\n",
    "        cv = GridSearchCV(estimator, param_grid, cv=cv, verbose=0, n_jobs=-1, iid=False)\n",
    "        \n",
    "    # Fit on the data\n",
    "    t0 = time.time()\n",
    "    cv.fit(X, y)\n",
    "    ttt = round(time.time() - t0, 2)\n",
    "    print(\"%s fitting takes %.2f seconds.\" % (model_name, ttt))\n",
    "    metrics.loc['Time to Train (s)', model_name] = ttt\n",
    "    \n",
    "    # Predict on the test set\n",
    "    predictions = cross_val_predict(cv, X, y, cv=5)\n",
    "    \n",
    "    # Scoring\n",
    "    metrics.loc['MAE', model_name] = round(mean_absolute_error(y, predictions), 3)\n",
    "    metrics.loc['RMSE', model_name] = round(np.sqrt(mean_squared_error(y, predictions)), 3)\n",
    "    metrics.loc['R-squared', model_name] = round(explained_variance_score(y, predictions), 3)\n",
    "    \n",
    "    # Return predictions for later use in comparing with actuals\n",
    "    return predictions"
   ]
  },
  {
   "cell_type": "code",
   "execution_count": 33,
   "metadata": {},
   "outputs": [],
   "source": [
    "from sklearn.linear_model import LinearRegression\n",
    "from sklearn.tree import DecisionTreeRegressor\n",
    "from sklearn.ensemble import RandomForestRegressor\n",
    "\n",
    "# Instantiate the models\n",
    "lr = LinearRegression()\n",
    "dt = DecisionTreeRegressor()\n",
    "rf = RandomForestRegressor()\n",
    "\n",
    "estimators = [lr, dt, rf]\n",
    "\n",
    "# Create param_grids for hyperparameter tuning\n",
    "param_grid_lr = None\n",
    "param_grid_dt = {\n",
    "    'max_depth': range(5,30)\n",
    "}\n",
    "param_grid_rf = {\n",
    "    'max_depth': range(5,30),\n",
    "    'n_estimators': [10, 100]\n",
    "}\n",
    "\n",
    "param_grids = [param_grid_lr, param_grid_dt, param_grid_rf]\n",
    "\n",
    "model_names = ['Linear Regression', 'Decision Tree', 'Random Forest']\n",
    "\n",
    "cv_names = ['lr_cv', 'dt_cv', 'rf_cv']\n",
    "cvs = [5, 5, 5]"
   ]
  },
  {
   "cell_type": "code",
   "execution_count": 34,
   "metadata": {},
   "outputs": [
    {
     "name": "stdout",
     "output_type": "stream",
     "text": [
      "Linear Regression fitting takes 0.16 seconds.\n"
     ]
    }
   ],
   "source": [
    "lr_cv = train_and_score_model('Linear Regression', lr, param_grid_lr)"
   ]
  },
  {
   "cell_type": "code",
   "execution_count": 35,
   "metadata": {},
   "outputs": [
    {
     "name": "stdout",
     "output_type": "stream",
     "text": [
      "Decision Tree fitting takes 19.75 seconds.\n"
     ]
    }
   ],
   "source": [
    "dt_cv = train_and_score_model('Decision Tree', dt, param_grid_dt)"
   ]
  },
  {
   "cell_type": "code",
   "execution_count": 36,
   "metadata": {},
   "outputs": [
    {
     "name": "stdout",
     "output_type": "stream",
     "text": [
      "Random Forest fitting takes 699.41 seconds.\n"
     ]
    }
   ],
   "source": [
    "rf_cv = train_and_score_model('Random Forest', rf, param_grid_rf)"
   ]
  },
  {
   "cell_type": "code",
   "execution_count": 37,
   "metadata": {},
   "outputs": [
    {
     "data": {
      "text/html": [
       "<div>\n",
       "<style scoped>\n",
       "    .dataframe tbody tr th:only-of-type {\n",
       "        vertical-align: middle;\n",
       "    }\n",
       "\n",
       "    .dataframe tbody tr th {\n",
       "        vertical-align: top;\n",
       "    }\n",
       "\n",
       "    .dataframe thead th {\n",
       "        text-align: right;\n",
       "    }\n",
       "</style>\n",
       "<table border=\"1\" class=\"dataframe\">\n",
       "  <thead>\n",
       "    <tr style=\"text-align: right;\">\n",
       "      <th></th>\n",
       "      <th>Linear Regression</th>\n",
       "      <th>Decision Tree</th>\n",
       "      <th>Random Forest</th>\n",
       "    </tr>\n",
       "  </thead>\n",
       "  <tbody>\n",
       "    <tr>\n",
       "      <th>MAE</th>\n",
       "      <td>37.02</td>\n",
       "      <td>36.29</td>\n",
       "      <td>33.94</td>\n",
       "    </tr>\n",
       "    <tr>\n",
       "      <th>RMSE</th>\n",
       "      <td>49.46</td>\n",
       "      <td>48.45</td>\n",
       "      <td>45.40</td>\n",
       "    </tr>\n",
       "    <tr>\n",
       "      <th>R-squared</th>\n",
       "      <td>0.38</td>\n",
       "      <td>0.40</td>\n",
       "      <td>0.48</td>\n",
       "    </tr>\n",
       "    <tr>\n",
       "      <th>Time to Train (s)</th>\n",
       "      <td>0.16</td>\n",
       "      <td>19.75</td>\n",
       "      <td>699.41</td>\n",
       "    </tr>\n",
       "  </tbody>\n",
       "</table>\n",
       "</div>"
      ],
      "text/plain": [
       "                   Linear Regression  Decision Tree  Random Forest\n",
       "MAE                            37.02          36.29          33.94\n",
       "RMSE                           49.46          48.45          45.40\n",
       "R-squared                       0.38           0.40           0.48\n",
       "Time to Train (s)               0.16          19.75         699.41"
      ]
     },
     "execution_count": 37,
     "metadata": {},
     "output_type": "execute_result"
    }
   ],
   "source": [
    "metrics = metrics.astype(float).round(2)\n",
    "metrics"
   ]
  },
  {
   "cell_type": "markdown",
   "metadata": {},
   "source": [
    "We will now test each model again, this time with the encoded categorical variables added as features."
   ]
  },
  {
   "cell_type": "code",
   "execution_count": 38,
   "metadata": {},
   "outputs": [
    {
     "name": "stdout",
     "output_type": "stream",
     "text": [
      "<class 'pandas.core.frame.DataFrame'>\n",
      "Int64Index: 18890 entries, 0 to 19618\n",
      "Data columns (total 5 columns):\n",
      "neighbourhood_cleansed    18890 non-null object\n",
      "property_type             18890 non-null object\n",
      "room_type                 18890 non-null object\n",
      "cancellation_policy       18890 non-null object\n",
      "price                     18890 non-null float64\n",
      "dtypes: float64(1), object(4)\n",
      "memory usage: 885.5+ KB\n"
     ]
    }
   ],
   "source": [
    "categoricals.info()"
   ]
  },
  {
   "cell_type": "code",
   "execution_count": 39,
   "metadata": {},
   "outputs": [],
   "source": [
    "# One-hot-encode the four categorical columns\n",
    "neighbourhood_cleansed_ohe = pd.get_dummies(categoricals['neighbourhood_cleansed'])\n",
    "property_type_ohe = pd.get_dummies(categoricals['property_type'])\n",
    "room_type_ohe = pd.get_dummies(categoricals['room_type'])\n",
    "cancellation_policy_ohe = pd.get_dummies(categoricals['cancellation_policy'])"
   ]
  },
  {
   "cell_type": "code",
   "execution_count": 40,
   "metadata": {},
   "outputs": [],
   "source": [
    "# Join the \"numericals\" DataFrame and the encoded categorical variables\n",
    "nums_and_cats = numericals.join(neighbourhood_cleansed_ohe).join(property_type_ohe).join(room_type_ohe).join(cancellation_policy_ohe)"
   ]
  },
  {
   "cell_type": "code",
   "execution_count": 41,
   "metadata": {},
   "outputs": [],
   "source": [
    "# Remove property_type columns with less than 100 observations\n",
    "for col in nums_and_cats:\n",
    "    if sum(nums_and_cats[col]) < 100:\n",
    "        nums_and_cats.drop([col], axis=1, inplace=True)"
   ]
  },
  {
   "cell_type": "code",
   "execution_count": 42,
   "metadata": {},
   "outputs": [],
   "source": [
    "# Move 'price' to the end\n",
    "last_col = ['price']\n",
    "nums_and_cats = nums_and_cats[[col for col in nums_and_cats if col not in last_col]\n",
    "                 + [col for col in last_col]]"
   ]
  },
  {
   "cell_type": "markdown",
   "metadata": {},
   "source": [
    "The updated DataFrame (with categorical features added) is now ready for ML."
   ]
  },
  {
   "cell_type": "markdown",
   "metadata": {},
   "source": [
    "##### Split \"nums_and_cats\" into features (X) and target (y)"
   ]
  },
  {
   "cell_type": "code",
   "execution_count": 43,
   "metadata": {},
   "outputs": [],
   "source": [
    "X = nums_and_cats.drop(['price'], axis=1)\n",
    "y = nums_and_cats.iloc[:,-1]"
   ]
  },
  {
   "cell_type": "markdown",
   "metadata": {},
   "source": [
    "##### Scale the features"
   ]
  },
  {
   "cell_type": "code",
   "execution_count": 44,
   "metadata": {},
   "outputs": [
    {
     "name": "stderr",
     "output_type": "stream",
     "text": [
      "/Users/brysonsicotte/anaconda3/lib/python3.7/site-packages/sklearn/preprocessing/data.py:625: DataConversionWarning: Data with input dtype bool, uint8, int64, float64 were all converted to float64 by StandardScaler.\n",
      "  return self.partial_fit(X, y)\n",
      "/Users/brysonsicotte/anaconda3/lib/python3.7/site-packages/sklearn/preprocessing/data.py:625: DataConversionWarning: Data with input dtype bool, uint8, int64, float64 were all converted to float64 by StandardScaler.\n",
      "  return self.partial_fit(X, y)\n",
      "/Users/brysonsicotte/anaconda3/lib/python3.7/site-packages/sklearn/base.py:462: DataConversionWarning: Data with input dtype bool, uint8, int64, float64 were all converted to float64 by StandardScaler.\n",
      "  return self.fit(X, **fit_params).transform(X)\n"
     ]
    },
    {
     "data": {
      "text/plain": [
       "array([[-3.42759185,  0.        , -0.16355874, ..., -0.55790608,\n",
       "        -0.77112327,  1.25721959],\n",
       "       [-2.89138027,  0.        , -0.12292343, ..., -0.55790608,\n",
       "        -0.77112327,  1.25721959],\n",
       "       [-2.89565828,  0.        , -0.12292343, ..., -0.55790608,\n",
       "        -0.77112327,  1.25721959],\n",
       "       ...,\n",
       "       [ 2.28923326,  0.        , -0.12292343, ...,  1.79241638,\n",
       "        -0.77112327, -0.795406  ],\n",
       "       [ 2.27963383,  0.        , -0.16355874, ...,  1.79241638,\n",
       "        -0.77112327, -0.795406  ],\n",
       "       [-0.83068548,  0.        , -0.12292343, ..., -0.55790608,\n",
       "         1.29680952, -0.795406  ]])"
      ]
     },
     "execution_count": 44,
     "metadata": {},
     "output_type": "execute_result"
    }
   ],
   "source": [
    "scaler = StandardScaler()\n",
    "scaler.fit(X)\n",
    "scaler.fit_transform(X)"
   ]
  },
  {
   "cell_type": "markdown",
   "metadata": {},
   "source": [
    "##### Call function to train and score models"
   ]
  },
  {
   "cell_type": "code",
   "execution_count": 45,
   "metadata": {},
   "outputs": [
    {
     "name": "stdout",
     "output_type": "stream",
     "text": [
      "Linear Regression fitting takes 0.24 seconds.\n"
     ]
    }
   ],
   "source": [
    "lr_cv = train_and_score_model('Linear Regression', lr, param_grid_lr)"
   ]
  },
  {
   "cell_type": "code",
   "execution_count": 46,
   "metadata": {},
   "outputs": [
    {
     "name": "stdout",
     "output_type": "stream",
     "text": [
      "Decision Tree fitting takes 26.49 seconds.\n"
     ]
    }
   ],
   "source": [
    "dt_cv = train_and_score_model('Decision Tree', dt, param_grid_dt)"
   ]
  },
  {
   "cell_type": "code",
   "execution_count": 47,
   "metadata": {},
   "outputs": [
    {
     "name": "stdout",
     "output_type": "stream",
     "text": [
      "Random Forest fitting takes 1047.57 seconds.\n"
     ]
    }
   ],
   "source": [
    "rf_cv = train_and_score_model('Random Forest', rf, param_grid_rf)"
   ]
  },
  {
   "cell_type": "code",
   "execution_count": 48,
   "metadata": {},
   "outputs": [
    {
     "data": {
      "text/html": [
       "<div>\n",
       "<style scoped>\n",
       "    .dataframe tbody tr th:only-of-type {\n",
       "        vertical-align: middle;\n",
       "    }\n",
       "\n",
       "    .dataframe tbody tr th {\n",
       "        vertical-align: top;\n",
       "    }\n",
       "\n",
       "    .dataframe thead th {\n",
       "        text-align: right;\n",
       "    }\n",
       "</style>\n",
       "<table border=\"1\" class=\"dataframe\">\n",
       "  <thead>\n",
       "    <tr style=\"text-align: right;\">\n",
       "      <th></th>\n",
       "      <th>Linear Regression</th>\n",
       "      <th>Decision Tree</th>\n",
       "      <th>Random Forest</th>\n",
       "    </tr>\n",
       "  </thead>\n",
       "  <tbody>\n",
       "    <tr>\n",
       "      <th>MAE</th>\n",
       "      <td>34.38</td>\n",
       "      <td>36.03</td>\n",
       "      <td>32.89</td>\n",
       "    </tr>\n",
       "    <tr>\n",
       "      <th>RMSE</th>\n",
       "      <td>46.40</td>\n",
       "      <td>48.15</td>\n",
       "      <td>44.42</td>\n",
       "    </tr>\n",
       "    <tr>\n",
       "      <th>R-squared</th>\n",
       "      <td>0.45</td>\n",
       "      <td>0.41</td>\n",
       "      <td>0.50</td>\n",
       "    </tr>\n",
       "    <tr>\n",
       "      <th>Time to Train (s)</th>\n",
       "      <td>0.24</td>\n",
       "      <td>26.49</td>\n",
       "      <td>1047.57</td>\n",
       "    </tr>\n",
       "  </tbody>\n",
       "</table>\n",
       "</div>"
      ],
      "text/plain": [
       "                   Linear Regression  Decision Tree  Random Forest\n",
       "MAE                            34.38          36.03          32.89\n",
       "RMSE                           46.40          48.15          44.42\n",
       "R-squared                       0.45           0.41           0.50\n",
       "Time to Train (s)               0.24          26.49        1047.57"
      ]
     },
     "execution_count": 48,
     "metadata": {},
     "output_type": "execute_result"
    }
   ],
   "source": [
    "metrics = metrics.astype(float).round(2)\n",
    "metrics"
   ]
  },
  {
   "cell_type": "markdown",
   "metadata": {},
   "source": [
    "We will now test each model again, creating features for individual amenities."
   ]
  },
  {
   "cell_type": "code",
   "execution_count": 49,
   "metadata": {},
   "outputs": [],
   "source": [
    "# Create the amenities columns\n",
    "amenities = []\n",
    "\n",
    "for line in air_raw['amenities'].str.split(','):\n",
    "    for amenity in line:\n",
    "        amenities.append(amenity)\n",
    "\n",
    "amenities = [char.replace('{', '') for char in amenities]\n",
    "amenities = [char.replace('}', '') for char in amenities]\n",
    "amenities = [char.replace('\"', '') for char in amenities]\n",
    "\n",
    "amenities_unique = set(amenities)"
   ]
  },
  {
   "cell_type": "code",
   "execution_count": 50,
   "metadata": {},
   "outputs": [
    {
     "data": {
      "text/plain": [
       "382365"
      ]
     },
     "execution_count": 50,
     "metadata": {},
     "output_type": "execute_result"
    }
   ],
   "source": [
    "len(amenities)"
   ]
  },
  {
   "cell_type": "code",
   "execution_count": 51,
   "metadata": {},
   "outputs": [
    {
     "data": {
      "text/plain": [
       "124"
      ]
     },
     "execution_count": 51,
     "metadata": {},
     "output_type": "execute_result"
    }
   ],
   "source": [
    "len(amenities_unique)"
   ]
  },
  {
   "cell_type": "markdown",
   "metadata": {},
   "source": [
    "Out of the 124 unique amenities, 14 were chosen as likely to be predictive of price."
   ]
  },
  {
   "cell_type": "code",
   "execution_count": 52,
   "metadata": {},
   "outputs": [],
   "source": [
    "amenities_14 = [\n",
    "    'Indoor fireplace',\n",
    "    'Long term stays allowed',\n",
    "    'Dishwasher',\n",
    "    'Washer',\n",
    "    'Private entrance',\n",
    "    'TV',\n",
    "    'Pets allowed',\n",
    "    'Hot tub',\n",
    "    'Beachfront',\n",
    "    'Bathtub',\n",
    "    'Patio or balcony',\n",
    "    'Waterfront',\n",
    "    'Cable TV (or Satellite TV in US)',\n",
    "    'Family/kid friendly'\n",
    "]"
   ]
  },
  {
   "cell_type": "code",
   "execution_count": 53,
   "metadata": {},
   "outputs": [],
   "source": [
    "# Create a list of formatted column headers\n",
    "amenities_14_cols = [\n",
    "    'indoor_fireplace','long_term_stays_allowed','dishwasher','washer','private_entrance',\n",
    "    'tv','pets_allowed','hot_tub','beachfront','bathtub','patio_or_balcony','waterfront',\n",
    "    'cable_tv','kid_friendly'\n",
    "]"
   ]
  },
  {
   "cell_type": "code",
   "execution_count": 54,
   "metadata": {},
   "outputs": [],
   "source": [
    "# Create the amenities DataFrame\n",
    "amenities_df = pd.DataFrame()"
   ]
  },
  {
   "cell_type": "code",
   "execution_count": 55,
   "metadata": {},
   "outputs": [
    {
     "name": "stderr",
     "output_type": "stream",
     "text": [
      "/Users/brysonsicotte/anaconda3/lib/python3.7/site-packages/ipykernel_launcher.py:3: UserWarning: This pattern has match groups. To actually get the groups, use str.extract.\n",
      "  This is separate from the ipykernel package so we can avoid doing imports until\n"
     ]
    }
   ],
   "source": [
    "# Create boolean columns for each of the 14 amenities\n",
    "for amenity in amenities_14:\n",
    "    amenities_df[amenity] = air_raw['amenities'].str.contains(amenity)"
   ]
  },
  {
   "cell_type": "code",
   "execution_count": 56,
   "metadata": {},
   "outputs": [],
   "source": [
    "# Update the column headers with the formatted names\n",
    "amenities_df.columns = amenities_14_cols"
   ]
  },
  {
   "cell_type": "code",
   "execution_count": 57,
   "metadata": {},
   "outputs": [
    {
     "data": {
      "text/html": [
       "<div>\n",
       "<style scoped>\n",
       "    .dataframe tbody tr th:only-of-type {\n",
       "        vertical-align: middle;\n",
       "    }\n",
       "\n",
       "    .dataframe tbody tr th {\n",
       "        vertical-align: top;\n",
       "    }\n",
       "\n",
       "    .dataframe thead th {\n",
       "        text-align: right;\n",
       "    }\n",
       "</style>\n",
       "<table border=\"1\" class=\"dataframe\">\n",
       "  <thead>\n",
       "    <tr style=\"text-align: right;\">\n",
       "      <th></th>\n",
       "      <th>indoor_fireplace</th>\n",
       "      <th>long_term_stays_allowed</th>\n",
       "      <th>dishwasher</th>\n",
       "      <th>washer</th>\n",
       "      <th>private_entrance</th>\n",
       "      <th>tv</th>\n",
       "      <th>pets_allowed</th>\n",
       "      <th>hot_tub</th>\n",
       "      <th>beachfront</th>\n",
       "      <th>bathtub</th>\n",
       "      <th>patio_or_balcony</th>\n",
       "      <th>waterfront</th>\n",
       "      <th>cable_tv</th>\n",
       "      <th>kid_friendly</th>\n",
       "    </tr>\n",
       "  </thead>\n",
       "  <tbody>\n",
       "    <tr>\n",
       "      <th>0</th>\n",
       "      <td>False</td>\n",
       "      <td>False</td>\n",
       "      <td>False</td>\n",
       "      <td>True</td>\n",
       "      <td>True</td>\n",
       "      <td>False</td>\n",
       "      <td>False</td>\n",
       "      <td>False</td>\n",
       "      <td>False</td>\n",
       "      <td>False</td>\n",
       "      <td>False</td>\n",
       "      <td>False</td>\n",
       "      <td>False</td>\n",
       "      <td>False</td>\n",
       "    </tr>\n",
       "    <tr>\n",
       "      <th>1</th>\n",
       "      <td>False</td>\n",
       "      <td>True</td>\n",
       "      <td>False</td>\n",
       "      <td>False</td>\n",
       "      <td>False</td>\n",
       "      <td>True</td>\n",
       "      <td>False</td>\n",
       "      <td>False</td>\n",
       "      <td>False</td>\n",
       "      <td>False</td>\n",
       "      <td>False</td>\n",
       "      <td>False</td>\n",
       "      <td>False</td>\n",
       "      <td>False</td>\n",
       "    </tr>\n",
       "    <tr>\n",
       "      <th>2</th>\n",
       "      <td>True</td>\n",
       "      <td>False</td>\n",
       "      <td>False</td>\n",
       "      <td>True</td>\n",
       "      <td>False</td>\n",
       "      <td>True</td>\n",
       "      <td>False</td>\n",
       "      <td>False</td>\n",
       "      <td>False</td>\n",
       "      <td>False</td>\n",
       "      <td>False</td>\n",
       "      <td>False</td>\n",
       "      <td>False</td>\n",
       "      <td>True</td>\n",
       "    </tr>\n",
       "  </tbody>\n",
       "</table>\n",
       "</div>"
      ],
      "text/plain": [
       "   indoor_fireplace  long_term_stays_allowed  dishwasher  washer  \\\n",
       "0             False                    False       False    True   \n",
       "1             False                     True       False   False   \n",
       "2              True                    False       False    True   \n",
       "\n",
       "   private_entrance     tv  pets_allowed  hot_tub  beachfront  bathtub  \\\n",
       "0              True  False         False    False       False    False   \n",
       "1             False   True         False    False       False    False   \n",
       "2             False   True         False    False       False    False   \n",
       "\n",
       "   patio_or_balcony  waterfront  cable_tv  kid_friendly  \n",
       "0             False       False     False         False  \n",
       "1             False       False     False         False  \n",
       "2             False       False     False          True  "
      ]
     },
     "execution_count": 57,
     "metadata": {},
     "output_type": "execute_result"
    }
   ],
   "source": [
    "amenities_df.head(3)"
   ]
  },
  {
   "cell_type": "markdown",
   "metadata": {},
   "source": [
    "Now we will join the amenities DataFrame with the numerical columns and encoded categorical columns, and assess whether this addition improves model performance."
   ]
  },
  {
   "cell_type": "code",
   "execution_count": 58,
   "metadata": {},
   "outputs": [],
   "source": [
    "nums_cats_amenities = nums_and_cats.join(amenities_df)"
   ]
  },
  {
   "cell_type": "code",
   "execution_count": 59,
   "metadata": {},
   "outputs": [],
   "source": [
    "# Place target variable at the end\n",
    "last_col = ['price']\n",
    "nums_cats_amenities = nums_cats_amenities[[col for col in nums_cats_amenities if col not in last_col]\n",
    "                                          + [col for col in last_col]]"
   ]
  },
  {
   "cell_type": "markdown",
   "metadata": {},
   "source": [
    "The updated DataFrame (with the newly created amenity features) is now ready for ML."
   ]
  },
  {
   "cell_type": "markdown",
   "metadata": {},
   "source": [
    "##### Split nums_cats_amenities into features (X) and target (y)"
   ]
  },
  {
   "cell_type": "code",
   "execution_count": 60,
   "metadata": {},
   "outputs": [],
   "source": [
    "X = nums_cats_amenities.drop(['price'], axis=1)\n",
    "y = nums_cats_amenities.iloc[:,-1]"
   ]
  },
  {
   "cell_type": "markdown",
   "metadata": {},
   "source": [
    "##### Scale the features"
   ]
  },
  {
   "cell_type": "code",
   "execution_count": 61,
   "metadata": {},
   "outputs": [
    {
     "name": "stderr",
     "output_type": "stream",
     "text": [
      "/Users/brysonsicotte/anaconda3/lib/python3.7/site-packages/sklearn/preprocessing/data.py:625: DataConversionWarning: Data with input dtype bool, uint8, int64, float64 were all converted to float64 by StandardScaler.\n",
      "  return self.partial_fit(X, y)\n",
      "/Users/brysonsicotte/anaconda3/lib/python3.7/site-packages/sklearn/preprocessing/data.py:625: DataConversionWarning: Data with input dtype bool, uint8, int64, float64 were all converted to float64 by StandardScaler.\n",
      "  return self.partial_fit(X, y)\n",
      "/Users/brysonsicotte/anaconda3/lib/python3.7/site-packages/sklearn/base.py:462: DataConversionWarning: Data with input dtype bool, uint8, int64, float64 were all converted to float64 by StandardScaler.\n",
      "  return self.fit(X, **fit_params).transform(X)\n"
     ]
    },
    {
     "data": {
      "text/plain": [
       "array([[-3.42759185,  0.        , -0.16355874, ..., -0.21626226,\n",
       "         0.        , -0.84636667],\n",
       "       [-2.89138027,  0.        , -0.12292343, ..., -0.21626226,\n",
       "         0.        , -0.84636667],\n",
       "       [-2.89565828,  0.        , -0.12292343, ..., -0.21626226,\n",
       "         0.        ,  1.181521  ],\n",
       "       ...,\n",
       "       [ 2.28923326,  0.        , -0.12292343, ..., -0.21626226,\n",
       "         0.        , -0.84636667],\n",
       "       [ 2.27963383,  0.        , -0.16355874, ..., -0.21626226,\n",
       "         0.        , -0.84636667],\n",
       "       [-0.83068548,  0.        , -0.12292343, ..., -0.21626226,\n",
       "         0.        ,  1.181521  ]])"
      ]
     },
     "execution_count": 61,
     "metadata": {},
     "output_type": "execute_result"
    }
   ],
   "source": [
    "scaler = StandardScaler()\n",
    "scaler.fit(X)\n",
    "scaler.fit_transform(X)"
   ]
  },
  {
   "cell_type": "markdown",
   "metadata": {},
   "source": [
    "##### Call function to train and score models"
   ]
  },
  {
   "cell_type": "code",
   "execution_count": 62,
   "metadata": {},
   "outputs": [
    {
     "name": "stdout",
     "output_type": "stream",
     "text": [
      "Linear Regression fitting takes 0.18 seconds.\n"
     ]
    }
   ],
   "source": [
    "lr_cv = train_and_score_model('Linear Regression', lr, param_grid_lr)"
   ]
  },
  {
   "cell_type": "code",
   "execution_count": 63,
   "metadata": {},
   "outputs": [
    {
     "name": "stdout",
     "output_type": "stream",
     "text": [
      "Decision Tree fitting takes 28.12 seconds.\n"
     ]
    }
   ],
   "source": [
    "dt_cv = train_and_score_model('Decision Tree', dt, param_grid_dt)"
   ]
  },
  {
   "cell_type": "code",
   "execution_count": 64,
   "metadata": {},
   "outputs": [
    {
     "name": "stdout",
     "output_type": "stream",
     "text": [
      "Random Forest fitting takes 1136.19 seconds.\n"
     ]
    }
   ],
   "source": [
    "rf_cv = train_and_score_model('Random Forest', rf, param_grid_rf)"
   ]
  },
  {
   "cell_type": "code",
   "execution_count": 65,
   "metadata": {},
   "outputs": [
    {
     "data": {
      "text/html": [
       "<div>\n",
       "<style scoped>\n",
       "    .dataframe tbody tr th:only-of-type {\n",
       "        vertical-align: middle;\n",
       "    }\n",
       "\n",
       "    .dataframe tbody tr th {\n",
       "        vertical-align: top;\n",
       "    }\n",
       "\n",
       "    .dataframe thead th {\n",
       "        text-align: right;\n",
       "    }\n",
       "</style>\n",
       "<table border=\"1\" class=\"dataframe\">\n",
       "  <thead>\n",
       "    <tr style=\"text-align: right;\">\n",
       "      <th></th>\n",
       "      <th>Linear Regression</th>\n",
       "      <th>Decision Tree</th>\n",
       "      <th>Random Forest</th>\n",
       "    </tr>\n",
       "  </thead>\n",
       "  <tbody>\n",
       "    <tr>\n",
       "      <th>MAE</th>\n",
       "      <td>33.757</td>\n",
       "      <td>35.930</td>\n",
       "      <td>32.723</td>\n",
       "    </tr>\n",
       "    <tr>\n",
       "      <th>RMSE</th>\n",
       "      <td>45.684</td>\n",
       "      <td>48.120</td>\n",
       "      <td>44.258</td>\n",
       "    </tr>\n",
       "    <tr>\n",
       "      <th>R-squared</th>\n",
       "      <td>0.470</td>\n",
       "      <td>0.411</td>\n",
       "      <td>0.502</td>\n",
       "    </tr>\n",
       "    <tr>\n",
       "      <th>Time to Train (s)</th>\n",
       "      <td>0.180</td>\n",
       "      <td>28.120</td>\n",
       "      <td>1136.190</td>\n",
       "    </tr>\n",
       "  </tbody>\n",
       "</table>\n",
       "</div>"
      ],
      "text/plain": [
       "                   Linear Regression  Decision Tree  Random Forest\n",
       "MAE                           33.757         35.930         32.723\n",
       "RMSE                          45.684         48.120         44.258\n",
       "R-squared                      0.470          0.411          0.502\n",
       "Time to Train (s)              0.180         28.120       1136.190"
      ]
     },
     "execution_count": 65,
     "metadata": {},
     "output_type": "execute_result"
    }
   ],
   "source": [
    "metrics"
   ]
  },
  {
   "cell_type": "markdown",
   "metadata": {},
   "source": [
    "### Evaluating the individual price predictions\n",
    "Individual predictions are based on the random forest model. Random forest was the most accurate of the three for both mean absolute error (MAE) and root mean squared error (RMSE)."
   ]
  },
  {
   "cell_type": "code",
   "execution_count": 66,
   "metadata": {},
   "outputs": [
    {
     "name": "stdout",
     "output_type": "stream",
     "text": [
      "[ 84.22788724 162.74883923 216.22666667 ... 169.47200269 122.9449296\n",
      " 167.91251762]\n"
     ]
    }
   ],
   "source": [
    "print(rf_cv)"
   ]
  },
  {
   "cell_type": "code",
   "execution_count": 67,
   "metadata": {},
   "outputs": [
    {
     "data": {
      "text/html": [
       "<div>\n",
       "<style scoped>\n",
       "    .dataframe tbody tr th:only-of-type {\n",
       "        vertical-align: middle;\n",
       "    }\n",
       "\n",
       "    .dataframe tbody tr th {\n",
       "        vertical-align: top;\n",
       "    }\n",
       "\n",
       "    .dataframe thead th {\n",
       "        text-align: right;\n",
       "    }\n",
       "</style>\n",
       "<table border=\"1\" class=\"dataframe\">\n",
       "  <thead>\n",
       "    <tr style=\"text-align: right;\">\n",
       "      <th></th>\n",
       "      <th>actual</th>\n",
       "      <th>predictions</th>\n",
       "      <th>error</th>\n",
       "    </tr>\n",
       "  </thead>\n",
       "  <tbody>\n",
       "    <tr>\n",
       "      <th>0</th>\n",
       "      <td>59.0</td>\n",
       "      <td>84.227887</td>\n",
       "      <td>25.227887</td>\n",
       "    </tr>\n",
       "    <tr>\n",
       "      <th>1</th>\n",
       "      <td>80.0</td>\n",
       "      <td>162.748839</td>\n",
       "      <td>82.748839</td>\n",
       "    </tr>\n",
       "    <tr>\n",
       "      <th>2</th>\n",
       "      <td>125.0</td>\n",
       "      <td>216.226667</td>\n",
       "      <td>91.226667</td>\n",
       "    </tr>\n",
       "    <tr>\n",
       "      <th>3</th>\n",
       "      <td>150.0</td>\n",
       "      <td>115.522677</td>\n",
       "      <td>34.477323</td>\n",
       "    </tr>\n",
       "    <tr>\n",
       "      <th>4</th>\n",
       "      <td>65.0</td>\n",
       "      <td>85.769463</td>\n",
       "      <td>20.769463</td>\n",
       "    </tr>\n",
       "  </tbody>\n",
       "</table>\n",
       "</div>"
      ],
      "text/plain": [
       "   actual  predictions      error\n",
       "0    59.0    84.227887  25.227887\n",
       "1    80.0   162.748839  82.748839\n",
       "2   125.0   216.226667  91.226667\n",
       "3   150.0   115.522677  34.477323\n",
       "4    65.0    85.769463  20.769463"
      ]
     },
     "execution_count": 67,
     "metadata": {},
     "output_type": "execute_result"
    }
   ],
   "source": [
    "compare = pd.DataFrame({'actual':y, 'predictions':rf_cv, 'error':abs(y-rf_cv)})\n",
    "compare.head()"
   ]
  },
  {
   "cell_type": "markdown",
   "metadata": {},
   "source": [
    "Just over 50% of the predictions are within $30 of the actual price. More feature engineering is needed before the model can be put in production."
   ]
  },
  {
   "cell_type": "code",
   "execution_count": 68,
   "metadata": {},
   "outputs": [
    {
     "name": "stderr",
     "output_type": "stream",
     "text": [
      "/Users/brysonsicotte/anaconda3/lib/python3.7/site-packages/scipy/stats/stats.py:1713: FutureWarning: Using a non-tuple sequence for multidimensional indexing is deprecated; use `arr[tuple(seq)]` instead of `arr[seq]`. In the future this will be interpreted as an array index, `arr[np.array(seq)]`, which will result either in an error or a different result.\n",
      "  return np.add.reduce(sorted[indexer] * weights, axis=axis) / sumval\n"
     ]
    },
    {
     "data": {
      "text/plain": [
       "<matplotlib.axes._subplots.AxesSubplot at 0x1a209b5ef0>"
      ]
     },
     "execution_count": 68,
     "metadata": {},
     "output_type": "execute_result"
    },
    {
     "data": {
      "image/png": "[encoded data removed]",
      "text/plain": [
       "<Figure size 432x288 with 1 Axes>"
      ]
     },
     "metadata": {
      "needs_background": "light"
     },
     "output_type": "display_data"
    }
   ],
   "source": [
    "sns.distplot(compare['error'], kde=False, color='Blue')"
   ]
  },
  {
   "cell_type": "code",
   "execution_count": 69,
   "metadata": {},
   "outputs": [
    {
     "data": {
      "text/plain": [
       "0.584647961884595"
      ]
     },
     "execution_count": 69,
     "metadata": {},
     "output_type": "execute_result"
    }
   ],
   "source": [
    "sum(compare['error'] < 30)/len(compare)"
   ]
  },
  {
   "cell_type": "markdown",
   "metadata": {},
   "source": [
    "### Feature Importances\n",
    "Let's find out what the top 10 most important features are from the random forest, and the top 10 coefficients for linear regression in either direction."
   ]
  },
  {
   "cell_type": "code",
   "execution_count": 70,
   "metadata": {},
   "outputs": [
    {
     "name": "stderr",
     "output_type": "stream",
     "text": [
      "/Users/brysonsicotte/anaconda3/lib/python3.7/site-packages/sklearn/ensemble/forest.py:246: FutureWarning: The default value of n_estimators will change from 10 in version 0.20 to 100 in 0.22.\n",
      "  \"10 in version 0.20 to 100 in 0.22.\", FutureWarning)\n"
     ]
    },
    {
     "data": {
      "text/plain": [
       "RandomForestRegressor(bootstrap=True, criterion='mse', max_depth=None,\n",
       "           max_features='auto', max_leaf_nodes=None,\n",
       "           min_impurity_decrease=0.0, min_impurity_split=None,\n",
       "           min_samples_leaf=1, min_samples_split=2,\n",
       "           min_weight_fraction_leaf=0.0, n_estimators=10, n_jobs=None,\n",
       "           oob_score=False, random_state=None, verbose=0, warm_start=False)"
      ]
     },
     "execution_count": 70,
     "metadata": {},
     "output_type": "execute_result"
    }
   ],
   "source": [
    "rf.fit(X, y)"
   ]
  },
  {
   "cell_type": "code",
   "execution_count": 71,
   "metadata": {},
   "outputs": [
    {
     "data": {
      "text/html": [
       "<div>\n",
       "<style scoped>\n",
       "    .dataframe tbody tr th:only-of-type {\n",
       "        vertical-align: middle;\n",
       "    }\n",
       "\n",
       "    .dataframe tbody tr th {\n",
       "        vertical-align: top;\n",
       "    }\n",
       "\n",
       "    .dataframe thead th {\n",
       "        text-align: right;\n",
       "    }\n",
       "</style>\n",
       "<table border=\"1\" class=\"dataframe\">\n",
       "  <thead>\n",
       "    <tr style=\"text-align: right;\">\n",
       "      <th></th>\n",
       "      <th>feature</th>\n",
       "      <th>importance</th>\n",
       "    </tr>\n",
       "  </thead>\n",
       "  <tbody>\n",
       "    <tr>\n",
       "      <th>5</th>\n",
       "      <td>accommodates</td>\n",
       "      <td>0.255132</td>\n",
       "    </tr>\n",
       "    <tr>\n",
       "      <th>29</th>\n",
       "      <td>distance_to_city_center</td>\n",
       "      <td>0.112987</td>\n",
       "    </tr>\n",
       "    <tr>\n",
       "      <th>0</th>\n",
       "      <td>host_since</td>\n",
       "      <td>0.055777</td>\n",
       "    </tr>\n",
       "    <tr>\n",
       "      <th>62</th>\n",
       "      <td>Entire home/apt</td>\n",
       "      <td>0.049190</td>\n",
       "    </tr>\n",
       "    <tr>\n",
       "      <th>20</th>\n",
       "      <td>availability_90</td>\n",
       "      <td>0.045402</td>\n",
       "    </tr>\n",
       "    <tr>\n",
       "      <th>22</th>\n",
       "      <td>number_of_reviews</td>\n",
       "      <td>0.038520</td>\n",
       "    </tr>\n",
       "    <tr>\n",
       "      <th>9</th>\n",
       "      <td>extra_people</td>\n",
       "      <td>0.035805</td>\n",
       "    </tr>\n",
       "    <tr>\n",
       "      <th>21</th>\n",
       "      <td>availability_365</td>\n",
       "      <td>0.032950</td>\n",
       "    </tr>\n",
       "    <tr>\n",
       "      <th>7</th>\n",
       "      <td>bedrooms</td>\n",
       "      <td>0.031303</td>\n",
       "    </tr>\n",
       "    <tr>\n",
       "      <th>23</th>\n",
       "      <td>number_of_reviews_ltm</td>\n",
       "      <td>0.029197</td>\n",
       "    </tr>\n",
       "  </tbody>\n",
       "</table>\n",
       "</div>"
      ],
      "text/plain": [
       "                    feature  importance\n",
       "5              accommodates    0.255132\n",
       "29  distance_to_city_center    0.112987\n",
       "0                host_since    0.055777\n",
       "62          Entire home/apt    0.049190\n",
       "20          availability_90    0.045402\n",
       "22        number_of_reviews    0.038520\n",
       "9              extra_people    0.035805\n",
       "21         availability_365    0.032950\n",
       "7                  bedrooms    0.031303\n",
       "23    number_of_reviews_ltm    0.029197"
      ]
     },
     "execution_count": 71,
     "metadata": {},
     "output_type": "execute_result"
    }
   ],
   "source": [
    "fi_index = []\n",
    "fi_value = []\n",
    "for index, value in enumerate(rf.feature_importances_):\n",
    "    fi_index.append(X.columns[index])\n",
    "    fi_value.append(value)\n",
    "fi = pd.DataFrame(\n",
    "    {'feature': fi_index,\n",
    "     'importance' : fi_value\n",
    "    })\n",
    "fi.sort_values(by='importance', ascending=False).head(10)"
   ]
  },
  {
   "cell_type": "markdown",
   "metadata": {},
   "source": [
    "Let's also get the top 10 coefficients from the linear regression model, in both the positive and negative direction."
   ]
  },
  {
   "cell_type": "code",
   "execution_count": 72,
   "metadata": {},
   "outputs": [
    {
     "data": {
      "text/plain": [
       "LinearRegression(copy_X=True, fit_intercept=True, n_jobs=None,\n",
       "         normalize=False)"
      ]
     },
     "execution_count": 72,
     "metadata": {},
     "output_type": "execute_result"
    }
   ],
   "source": [
    "lr.fit(X, y)"
   ]
  },
  {
   "cell_type": "code",
   "execution_count": 73,
   "metadata": {},
   "outputs": [],
   "source": [
    "# Create a DataFrame with the coefficients of the linear regression model\n",
    "coef_index = []\n",
    "coef_value = []\n",
    "for index, value in enumerate(lr.coef_):\n",
    "    coef_index.append(X.columns[index])\n",
    "    coef_value.append(value)\n",
    "\n",
    "coeffs = pd.DataFrame(\n",
    "    {'feature': coef_index,\n",
    "     'coefficient' : coef_value\n",
    "    })"
   ]
  },
  {
   "cell_type": "code",
   "execution_count": 74,
   "metadata": {},
   "outputs": [
    {
     "data": {
      "text/html": [
       "<div>\n",
       "<style scoped>\n",
       "    .dataframe tbody tr th:only-of-type {\n",
       "        vertical-align: middle;\n",
       "    }\n",
       "\n",
       "    .dataframe tbody tr th {\n",
       "        vertical-align: top;\n",
       "    }\n",
       "\n",
       "    .dataframe thead th {\n",
       "        text-align: right;\n",
       "    }\n",
       "</style>\n",
       "<table border=\"1\" class=\"dataframe\">\n",
       "  <thead>\n",
       "    <tr style=\"text-align: right;\">\n",
       "      <th></th>\n",
       "      <th>feature</th>\n",
       "      <th>coefficient</th>\n",
       "    </tr>\n",
       "  </thead>\n",
       "  <tbody>\n",
       "    <tr>\n",
       "      <th>62</th>\n",
       "      <td>Entire home/apt</td>\n",
       "      <td>76.310771</td>\n",
       "    </tr>\n",
       "    <tr>\n",
       "      <th>63</th>\n",
       "      <td>Private room</td>\n",
       "      <td>44.397271</td>\n",
       "    </tr>\n",
       "    <tr>\n",
       "      <th>39</th>\n",
       "      <td>Gaasperdam - Driemond</td>\n",
       "      <td>37.360949</td>\n",
       "    </tr>\n",
       "    <tr>\n",
       "      <th>41</th>\n",
       "      <td>IJburg - Zeeburgereiland</td>\n",
       "      <td>30.590906</td>\n",
       "    </tr>\n",
       "    <tr>\n",
       "      <th>67</th>\n",
       "      <td>indoor_fireplace</td>\n",
       "      <td>19.299585</td>\n",
       "    </tr>\n",
       "    <tr>\n",
       "      <th>59</th>\n",
       "      <td>Houseboat</td>\n",
       "      <td>18.516507</td>\n",
       "    </tr>\n",
       "    <tr>\n",
       "      <th>31</th>\n",
       "      <td>Bijlmer-Oost</td>\n",
       "      <td>15.596112</td>\n",
       "    </tr>\n",
       "    <tr>\n",
       "      <th>5</th>\n",
       "      <td>accommodates</td>\n",
       "      <td>15.507844</td>\n",
       "    </tr>\n",
       "    <tr>\n",
       "      <th>7</th>\n",
       "      <td>bedrooms</td>\n",
       "      <td>14.891070</td>\n",
       "    </tr>\n",
       "    <tr>\n",
       "      <th>35</th>\n",
       "      <td>Centrum-West</td>\n",
       "      <td>14.615807</td>\n",
       "    </tr>\n",
       "  </tbody>\n",
       "</table>\n",
       "</div>"
      ],
      "text/plain": [
       "                     feature  coefficient\n",
       "62           Entire home/apt    76.310771\n",
       "63              Private room    44.397271\n",
       "39     Gaasperdam - Driemond    37.360949\n",
       "41  IJburg - Zeeburgereiland    30.590906\n",
       "67          indoor_fireplace    19.299585\n",
       "59                 Houseboat    18.516507\n",
       "31              Bijlmer-Oost    15.596112\n",
       "5               accommodates    15.507844\n",
       "7                   bedrooms    14.891070\n",
       "35              Centrum-West    14.615807"
      ]
     },
     "execution_count": 74,
     "metadata": {},
     "output_type": "execute_result"
    }
   ],
   "source": [
    "# Get the top 10 positive coefficients\n",
    "coeffs.sort_values(by='coefficient', ascending=False).head(10)"
   ]
  },
  {
   "cell_type": "code",
   "execution_count": 75,
   "metadata": {},
   "outputs": [
    {
     "data": {
      "text/html": [
       "<div>\n",
       "<style scoped>\n",
       "    .dataframe tbody tr th:only-of-type {\n",
       "        vertical-align: middle;\n",
       "    }\n",
       "\n",
       "    .dataframe tbody tr th {\n",
       "        vertical-align: top;\n",
       "    }\n",
       "\n",
       "    .dataframe thead th {\n",
       "        text-align: right;\n",
       "    }\n",
       "</style>\n",
       "<table border=\"1\" class=\"dataframe\">\n",
       "  <thead>\n",
       "    <tr style=\"text-align: right;\">\n",
       "      <th></th>\n",
       "      <th>feature</th>\n",
       "      <th>coefficient</th>\n",
       "    </tr>\n",
       "  </thead>\n",
       "  <tbody>\n",
       "    <tr>\n",
       "      <th>29</th>\n",
       "      <td>distance_to_city_center</td>\n",
       "      <td>-19.520960</td>\n",
       "    </tr>\n",
       "    <tr>\n",
       "      <th>48</th>\n",
       "      <td>Slotervaart</td>\n",
       "      <td>-17.192927</td>\n",
       "    </tr>\n",
       "    <tr>\n",
       "      <th>53</th>\n",
       "      <td>Apartment</td>\n",
       "      <td>-15.274404</td>\n",
       "    </tr>\n",
       "    <tr>\n",
       "      <th>32</th>\n",
       "      <td>Bos en Lommer</td>\n",
       "      <td>-15.022482</td>\n",
       "    </tr>\n",
       "    <tr>\n",
       "      <th>56</th>\n",
       "      <td>Condominium</td>\n",
       "      <td>-14.006873</td>\n",
       "    </tr>\n",
       "    <tr>\n",
       "      <th>38</th>\n",
       "      <td>De Pijp - Rivierenbuurt</td>\n",
       "      <td>-12.788246</td>\n",
       "    </tr>\n",
       "    <tr>\n",
       "      <th>37</th>\n",
       "      <td>De Baarsjes - Oud-West</td>\n",
       "      <td>-12.624574</td>\n",
       "    </tr>\n",
       "    <tr>\n",
       "      <th>75</th>\n",
       "      <td>beachfront</td>\n",
       "      <td>-12.322881</td>\n",
       "    </tr>\n",
       "    <tr>\n",
       "      <th>33</th>\n",
       "      <td>Buitenveldert - Zuidas</td>\n",
       "      <td>-11.742051</td>\n",
       "    </tr>\n",
       "    <tr>\n",
       "      <th>47</th>\n",
       "      <td>Oud-Oost</td>\n",
       "      <td>-10.777648</td>\n",
       "    </tr>\n",
       "  </tbody>\n",
       "</table>\n",
       "</div>"
      ],
      "text/plain": [
       "                    feature  coefficient\n",
       "29  distance_to_city_center   -19.520960\n",
       "48              Slotervaart   -17.192927\n",
       "53                Apartment   -15.274404\n",
       "32            Bos en Lommer   -15.022482\n",
       "56              Condominium   -14.006873\n",
       "38  De Pijp - Rivierenbuurt   -12.788246\n",
       "37   De Baarsjes - Oud-West   -12.624574\n",
       "75               beachfront   -12.322881\n",
       "33   Buitenveldert - Zuidas   -11.742051\n",
       "47                 Oud-Oost   -10.777648"
      ]
     },
     "execution_count": 75,
     "metadata": {},
     "output_type": "execute_result"
    }
   ],
   "source": [
    "# Get the top 10 negative coefficients\n",
    "coeffs.sort_values(by='coefficient').head(10)"
   ]
  }
 ],
 "metadata": {
  "kernelspec": {
   "display_name": "Python 3",
   "language": "python",
   "name": "python3"
  },
  "language_info": {
   "codemirror_mode": {
    "name": "ipython",
    "version": 3
   },
   "file_extension": ".py",
   "mimetype": "text/x-python",
   "name": "python",
   "nbconvert_exporter": "python",
   "pygments_lexer": "ipython3",
   "version": "3.7.1"
  }
 },
 "nbformat": 4,
 "nbformat_minor": 2
}
