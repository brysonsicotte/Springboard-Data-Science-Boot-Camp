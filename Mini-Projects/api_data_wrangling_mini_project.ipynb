{
 "cells": [
  {
   "cell_type": "markdown",
   "metadata": {},
   "source": [
    "This exercise will require you to pull some data from the Qunadl API. Qaundl is currently the most widely used aggregator of financial market data."
   ]
  },
  {
   "cell_type": "markdown",
   "metadata": {},
   "source": [
    "As a first step, you will need to register a free account on the http://www.quandl.com website."
   ]
  },
  {
   "cell_type": "markdown",
   "metadata": {},
   "source": [
    "After you register, you will be provided with a unique API key, that you should store:"
   ]
  },
  {
   "cell_type": "code",
   "execution_count": 29,
   "metadata": {
    "collapsed": true
   },
   "outputs": [],
   "source": [
    "# Store the API key as a string - according to PEP8, constants are always named in all upper case\n",
    "# API_KEY = 'my_api_key'"
   ]
  },
  {
   "cell_type": "markdown",
   "metadata": {},
   "source": [
    "Qaundl has a large number of data sources, but, unfortunately, most of them require a Premium subscription. Still, there are also a good number of free datasets."
   ]
  },
  {
   "cell_type": "markdown",
   "metadata": {},
   "source": [
    "For this mini project, we will focus on equities data from the Frankfurt Stock Exhange (FSE), which is available for free. We'll try and analyze the stock prices of a company called Carl Zeiss Meditec, which manufactures tools for eye examinations, as well as medical lasers for laser eye surgery: https://www.zeiss.com/meditec/int/home.html. The company is listed under the stock ticker AFX_X."
   ]
  },
  {
   "cell_type": "markdown",
   "metadata": {},
   "source": [
    "You can find the detailed Quandl API instructions here: https://docs.quandl.com/docs/time-series"
   ]
  },
  {
   "cell_type": "markdown",
   "metadata": {},
   "source": [
    "While there is a dedicated Python package for connecting to the Quandl API, we would prefer that you use the *requests* package, which can be easily downloaded using *pip* or *conda*. You can find the documentation for the package here: http://docs.python-requests.org/en/master/ "
   ]
  },
  {
   "cell_type": "markdown",
   "metadata": {},
   "source": [
    "Finally, apart from the *requests* package, you are encouraged to not use any third party Python packages, such as *pandas*, and instead focus on what's available in the Python Standard Library (the *collections* module might come in handy: https://pymotw.com/3/collections/ ).\n",
    "Also, since you won't have access to DataFrames, you are encouraged to us Python's native data structures - preferably dictionaries, though some questions can also be answered using lists.\n",
    "You can read more on these data structures here: https://docs.python.org/3/tutorial/datastructures.html"
   ]
  },
  {
   "cell_type": "markdown",
   "metadata": {},
   "source": [
    "Keep in mind that the JSON responses you will be getting from the API map almost one-to-one to Python's dictionaries. Unfortunately, they can be very nested, so make sure you read up on indexing dictionaries in the documentation provided above."
   ]
  },
  {
   "cell_type": "code",
   "execution_count": 13,
   "metadata": {
    "collapsed": true
   },
   "outputs": [],
   "source": [
    "# First, import the relevant modules\n",
    "import requests\n"
   ]
  },
  {
   "cell_type": "code",
   "execution_count": 32,
   "metadata": {
    "collapsed": true
   },
   "outputs": [],
   "source": [
    "# Now, call the Quandl API and pull out a small sample of the data (only one day) to get a glimpse\n",
    "# into the JSON structure that will be returned\n",
    "r_sample = requests.get('https://www.quandl.com/api/v3/datasets/FSE/AFX_X.json?start_date=2018-08-14&end_date=2018-08-14&api_key=replace_with_api_key')\n"
   ]
  },
  {
   "cell_type": "code",
   "execution_count": 33,
   "metadata": {},
   "outputs": [
    {
     "name": "stdout",
     "output_type": "stream",
     "text": [
      "{u'dataset': {u'dataset_code': u'AFX_X', u'column_names': [u'Date', u'Open', u'High', u'Low', u'Close', u'Change', u'Traded Volume', u'Turnover', u'Last Price of the Day', u'Daily Traded Units', u'Daily Turnover'], u'newest_available_date': u'2019-03-25', u'description': u'Stock Prices for Carl Zeiss Meditec (AFX) from the Frankfurt Stock Exchange.<br><br>Trading System: Xetra<br><br>ISIN: DE0005313704', u'end_date': u'2018-08-14', u'data': [[u'2018-08-14', None, 74.0, 72.25, 73.0, None, 138029.0, 10067922.0, None, None, None]], u'start_date': u'2018-08-14', u'limit': None, u'transform': None, u'order': None, u'refreshed_at': u'2019-03-25T22:38:33.626Z', u'frequency': u'daily', u'database_code': u'FSE', u'oldest_available_date': u'2000-06-07', u'collapse': None, u'premium': False, u'database_id': 6129, u'column_index': None, u'type': u'Time Series', u'id': 10095370, u'name': u'Carl Zeiss Meditec (AFX_X)'}}\n"
     ]
    }
   ],
   "source": [
    "# Inspect the JSON structure of the object you created, and take note of how nested it is,\n",
    "# as well as the overall structure\n",
    "print(r_sample.json())"
   ]
  },
  {
   "cell_type": "markdown",
   "metadata": {},
   "source": [
    "These are your tasks for this mini project:\n",
    "\n",
    "1. Collect data from the Franfurt Stock Exchange, for the ticker AFX_X, for the whole year 2017 (keep in mind that the date format is YYYY-MM-DD).\n",
    "2. Convert the returned JSON object into a Python dictionary.\n",
    "3. Calculate what the highest and lowest opening prices were for the stock in this period.\n",
    "4. What was the largest change in any one day (based on High and Low price)?\n",
    "5. What was the largest change between any two days (based on Closing Price)?\n",
    "6. What was the average daily trading volume during this year?\n",
    "7. (Optional) What was the median trading volume during this year. (Note: you may need to implement your own function for calculating the median.)"
   ]
  },
  {
   "cell_type": "code",
   "execution_count": 31,
   "metadata": {
    "collapsed": true
   },
   "outputs": [],
   "source": [
    "# 1\n",
    "\n",
    "r = requests.get('https://www.quandl.com/api/v3/datasets/FSE/AFX_X.json?start_date=2017-01-01&end_date=2017-12-31&api_key=oDEfYhsKQhyzgEUwyvJW')\n"
   ]
  },
  {
   "cell_type": "code",
   "execution_count": 90,
   "metadata": {
    "collapsed": true
   },
   "outputs": [],
   "source": [
    "# 2 \n",
    "\n",
    "r_dict = r.json()"
   ]
  },
  {
   "cell_type": "code",
   "execution_count": 128,
   "metadata": {},
   "outputs": [
    {
     "name": "stdout",
     "output_type": "stream",
     "text": [
      "2017 Max Open Price: 53.11\n",
      "2017 Min Open Price: 34.0\n"
     ]
    }
   ],
   "source": [
    "# 3\n",
    "\n",
    "opening_prices = []\n",
    "\n",
    "the_data = r_dict['dataset']['data']\n",
    "\n",
    "for row in the_data:\n",
    "    opening_prices.append(row[1])\n",
    "    \n",
    "print(\"2017 Max Open Price: \" + str(max(i for i in opening_prices if i is not None)))\n",
    "print(\"2017 Min Open Price: \" + str(min(i for i in opening_prices if i is not None)))"
   ]
  },
  {
   "cell_type": "code",
   "execution_count": 106,
   "metadata": {},
   "outputs": [
    {
     "name": "stdout",
     "output_type": "stream",
     "text": [
      "Largest change in any one day (2017): 2.81\n"
     ]
    }
   ],
   "source": [
    "# 4\n",
    "\n",
    "highs_list = []\n",
    "lows_list = []\n",
    "\n",
    "for row in the_data:\n",
    "    highs_list.append(row[2])\n",
    "    lows_list.append(row[3])\n",
    "\n",
    "\n",
    "day_change = [a - b for a, b in zip(highs_list, lows_list)]\n",
    "\n",
    "print('Largest change in any one day (2017): ' + str(max(day_change)))\n",
    "\n"
   ]
  },
  {
   "cell_type": "code",
   "execution_count": 111,
   "metadata": {},
   "outputs": [
    {
     "name": "stdout",
     "output_type": "stream",
     "text": [
      "Largest change in closing price: 2.56\n"
     ]
    }
   ],
   "source": [
    "# 5\n",
    "\n",
    "closing_prices = []\n",
    "\n",
    "for row in the_data:\n",
    "    closing_prices.append(row[4])\n",
    "    \n",
    "closing_prices\n",
    "\n",
    "change_in_closing_price = [abs(b - a) for a, b in zip(closing_prices[:-1], closing_prices[1:])]\n",
    "\n",
    "print('Largest change in closing price: ' + str(max(change_in_closing_price)))"
   ]
  },
  {
   "cell_type": "code",
   "execution_count": 120,
   "metadata": {},
   "outputs": [
    {
     "name": "stdout",
     "output_type": "stream",
     "text": [
      "Average daily trading volume (2017): 3853589.45\n"
     ]
    }
   ],
   "source": [
    "# 6\n",
    "\n",
    "traded_volume = []\n",
    "\n",
    "for row in the_data:\n",
    "    traded_volume.append(row[7])\n",
    "    \n",
    "print('Average daily trading volume (2017): ' + str(round(sum(traded_volume) / len(traded_volume), 2)))"
   ]
  },
  {
   "cell_type": "code",
   "execution_count": 127,
   "metadata": {},
   "outputs": [
    {
     "name": "stdout",
     "output_type": "stream",
     "text": [
      "Median daily trading volume (2017): 3292223.0\n"
     ]
    }
   ],
   "source": [
    "# 7\n",
    "\n",
    "def median(list):\n",
    "    \n",
    "    n = len(list)\n",
    "    \n",
    "    if n % 2 == 1:\n",
    "        return sorted(list)[n//2]\n",
    "    else:\n",
    "        return sum(sorted(list)[n//2-1:n//2+1])/2.0\n",
    "    \n",
    "print('Median daily trading volume (2017): ' + str(median(traded_volume)))"
   ]
  },
  {
   "cell_type": "code",
   "execution_count": null,
   "metadata": {
    "collapsed": true
   },
   "outputs": [],
   "source": []
  },
  {
   "cell_type": "code",
   "execution_count": null,
   "metadata": {
    "collapsed": true
   },
   "outputs": [],
   "source": []
  },
  {
   "cell_type": "code",
   "execution_count": null,
   "metadata": {
    "collapsed": true
   },
   "outputs": [],
   "source": []
  }
 ],
 "metadata": {
  "kernelspec": {
   "display_name": "nfltestproject",
   "language": "python",
   "name": "nfltestproject"
  },
  "language_info": {
   "codemirror_mode": {
    "name": "ipython",
    "version": 2
   },
   "file_extension": ".py",
   "mimetype": "text/x-python",
   "name": "python",
   "nbconvert_exporter": "python",
   "pygments_lexer": "ipython2",
   "version": "2.7.15"
  }
 },
 "nbformat": 4,
 "nbformat_minor": 2
}
